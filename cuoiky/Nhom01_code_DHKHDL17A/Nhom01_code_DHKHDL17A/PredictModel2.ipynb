{
  "cells": [
    {
      "cell_type": "code",
      "source": [
        "%%pyspark\r\n",
        "df = spark.read.load('', format='csv'\r\n",
        "\r\n",
        ", header=True\r\n",
        ")\r\n",
        "display(df)"
      ],
      "outputs": [
        {
          "output_type": "display_data",
          "data": {
            "application/vnd.livy.statement-meta+json": {
              "spark_pool": "sparkpool",
              "statement_id": 5,
              "statement_ids": [
                5
              ],
              "state": "finished",
              "livy_statement_state": "available",
              "spark_jobs": null,
              "session_id": "6",
              "normalized_state": "finished",
              "queued_time": "2024-12-20T11:31:53.0272021Z",
              "session_start_time": null,
              "execution_start_time": "2024-12-20T11:31:53.2047164Z",
              "execution_finish_time": "2024-12-20T11:32:04.1718021Z",
              "parent_msg_id": "dae69ab0-f885-4f25-93e3-184ef4abac26"
            },
            "text/plain": "StatementMeta(sparkpool, 6, 5, Finished, Available, Finished)"
          },
          "metadata": {}
        },
        {
          "output_type": "display_data",
          "data": {
            "application/vnd.synapse.widget-view+json": {
              "widget_id": "7691e7dd-2567-48f2-85c9-f8526fcc06ca",
              "widget_type": "Synapse.DataFrame"
            },
            "text/plain": "SynapseWidget(Synapse.DataFrame, 7691e7dd-2567-48f2-85c9-f8526fcc06ca)"
          },
          "metadata": {}
        }
      ],
      "execution_count": 5,
      "metadata": {
        "microsoft": {
          "language": "python"
        },
        "collapsed": false
      }
    },
    {
      "cell_type": "code",
      "source": [
        "final_df = df.select(['recency','frequency','monetary_value','CustomerID']).distinct()"
      ],
      "outputs": [
        {
          "output_type": "display_data",
          "data": {
            "application/vnd.livy.statement-meta+json": {
              "spark_pool": "sparkpool",
              "statement_id": 8,
              "statement_ids": [
                8
              ],
              "state": "finished",
              "livy_statement_state": "available",
              "spark_jobs": null,
              "session_id": "6",
              "normalized_state": "finished",
              "queued_time": "2024-12-20T11:33:22.8694196Z",
              "session_start_time": null,
              "execution_start_time": "2024-12-20T11:33:23.0265841Z",
              "execution_finish_time": "2024-12-20T11:33:23.2121162Z",
              "parent_msg_id": "62d2e182-1be3-42f2-b7a8-7c10ebd6d23e"
            },
            "text/plain": "StatementMeta(sparkpool, 6, 8, Finished, Available, Finished)"
          },
          "metadata": {}
        }
      ],
      "execution_count": 8,
      "metadata": {
        "jupyter": {
          "source_hidden": false,
          "outputs_hidden": false
        },
        "nteract": {
          "transient": {
            "deleting": false
          }
        }
      }
    },
    {
      "cell_type": "code",
      "source": [
        "from pyspark.sql.functions import col\r\n",
        "# Chuyển recency thành long (số nguyên dài)\r\n",
        "final_df = final_df.withColumn(\"recency\", col(\"recency\").cast(\"long\"))\r\n",
        "\r\n",
        "# Chuyển frequency thành int (số nguyên)\r\n",
        "final_df = final_df.withColumn(\"frequency\", col(\"frequency\").cast(\"int\"))\r\n",
        "\r\n",
        "# Chuyển monetary_value thành decimal (hoặc double nếu muốn)\r\n",
        "final_df = final_df.withColumn('monetary_value', col('monetary_value').cast('float'))"
      ],
      "outputs": [
        {
          "output_type": "display_data",
          "data": {
            "application/vnd.livy.statement-meta+json": {
              "spark_pool": "sparkpool",
              "statement_id": 33,
              "statement_ids": [
                33
              ],
              "state": "finished",
              "livy_statement_state": "available",
              "spark_jobs": null,
              "session_id": "6",
              "normalized_state": "finished",
              "queued_time": "2024-12-20T11:53:21.3495011Z",
              "session_start_time": null,
              "execution_start_time": "2024-12-20T11:53:21.5399014Z",
              "execution_finish_time": "2024-12-20T11:53:21.7208303Z",
              "parent_msg_id": "7a89ad7a-3b7b-43f6-b31c-bf304700cd9f"
            },
            "text/plain": "StatementMeta(sparkpool, 6, 33, Finished, Available, Finished)"
          },
          "metadata": {}
        }
      ],
      "execution_count": 33,
      "metadata": {
        "jupyter": {
          "source_hidden": false,
          "outputs_hidden": false
        },
        "nteract": {
          "transient": {
            "deleting": false
          }
        }
      }
    },
    {
      "cell_type": "code",
      "source": [
        "from pyspark.ml.feature import VectorAssembler\r\n",
        "from pyspark.ml.feature import StandardScaler\r\n",
        "\r\n",
        "assemble=VectorAssembler(inputCols=[\r\n",
        "    'recency','frequency','monetary_value'\r\n",
        "], outputCol='features')\r\n",
        "\r\n",
        "assembled_data=assemble.transform(final_df)\r\n",
        "\r\n",
        "scale=StandardScaler(inputCol='features',outputCol='standardized')\r\n",
        "data_scale=scale.fit(assembled_data)\r\n",
        "data_scale_output=data_scale.transform(assembled_data)"
      ],
      "outputs": [
        {
          "output_type": "display_data",
          "data": {
            "application/vnd.livy.statement-meta+json": {
              "spark_pool": "sparkpool",
              "statement_id": 34,
              "statement_ids": [
                34
              ],
              "state": "finished",
              "livy_statement_state": "available",
              "spark_jobs": null,
              "session_id": "6",
              "normalized_state": "finished",
              "queued_time": "2024-12-20T11:53:24.0796599Z",
              "session_start_time": null,
              "execution_start_time": "2024-12-20T11:53:24.2818267Z",
              "execution_finish_time": "2024-12-20T11:53:25.4345118Z",
              "parent_msg_id": "628b6cf7-d177-437b-a036-0dd5faef1563"
            },
            "text/plain": "StatementMeta(sparkpool, 6, 34, Finished, Available, Finished)"
          },
          "metadata": {}
        }
      ],
      "execution_count": 34,
      "metadata": {
        "jupyter": {
          "source_hidden": false,
          "outputs_hidden": false
        },
        "nteract": {
          "transient": {
            "deleting": false
          }
        }
      }
    },
    {
      "cell_type": "markdown",
      "source": [
        "Triển khai học máy"
      ],
      "metadata": {
        "nteract": {
          "transient": {
            "deleting": false
          }
        }
      }
    },
    {
      "cell_type": "code",
      "source": [
        "from pyspark.ml.clustering import KMeans\r\n",
        "from pyspark.ml.evaluation import ClusteringEvaluator\r\n",
        "import numpy as np\r\n",
        "\r\n",
        "cost = np.zeros(10)\r\n",
        "evaluator = ClusteringEvaluator(predictionCol='prediction', featuresCol='standardized',metricName='silhouette', distanceMeasure='squaredEuclidean')\r\n",
        "\r\n",
        "for i in range(2,10):\r\n",
        "    KMeans_algo=KMeans(featuresCol='standardized', k=i)\r\n",
        "    KMeans_fit=KMeans_algo.fit(data_scale_output)\r\n",
        "    output=KMeans_fit.transform(data_scale_output)\r\n",
        "    cost[i] = KMeans_fit.summary.trainingCost"
      ],
      "outputs": [
        {
          "output_type": "display_data",
          "data": {
            "application/vnd.livy.statement-meta+json": {
              "spark_pool": "sparkpool",
              "statement_id": 35,
              "statement_ids": [
                35
              ],
              "state": "finished",
              "livy_statement_state": "available",
              "spark_jobs": null,
              "session_id": "6",
              "normalized_state": "finished",
              "queued_time": "2024-12-20T11:53:27.8140649Z",
              "session_start_time": null,
              "execution_start_time": "2024-12-20T11:53:27.988059Z",
              "execution_finish_time": "2024-12-20T11:54:05.9088809Z",
              "parent_msg_id": "5d54e608-ddbe-4f64-b96e-9b10202c2250"
            },
            "text/plain": "StatementMeta(sparkpool, 6, 35, Finished, Available, Finished)"
          },
          "metadata": {}
        }
      ],
      "execution_count": 35,
      "metadata": {
        "jupyter": {
          "source_hidden": false,
          "outputs_hidden": false
        },
        "nteract": {
          "transient": {
            "deleting": false
          }
        }
      }
    },
    {
      "cell_type": "code",
      "source": [
        "import pandas as pd\r\n",
        "import pylab as pl\r\n",
        "df_cost = pd.DataFrame(cost[2:])\r\n",
        "df_cost.columns = [\"cost\"]\r\n",
        "new_col = range(2,10)\r\n",
        "df_cost.insert(0, 'cluster', new_col)\r\n",
        "pl.plot(df_cost.cluster, df_cost.cost)\r\n",
        "pl.xlabel('Number of Clusters')\r\n",
        "pl.ylabel('Score')\r\n",
        "pl.title('Elbow Curve')\r\n",
        "pl.show()"
      ],
      "outputs": [
        {
          "output_type": "display_data",
          "data": {
            "application/vnd.livy.statement-meta+json": {
              "spark_pool": "sparkpool",
              "statement_id": 36,
              "statement_ids": [
                36
              ],
              "state": "finished",
              "livy_statement_state": "available",
              "spark_jobs": null,
              "session_id": "6",
              "normalized_state": "finished",
              "queued_time": "2024-12-20T11:55:44.153739Z",
              "session_start_time": null,
              "execution_start_time": "2024-12-20T11:55:44.3837339Z",
              "execution_finish_time": "2024-12-20T11:55:45.0548961Z",
              "parent_msg_id": "c9c01a47-17ac-4469-baa0-5881668c00d8"
            },
            "text/plain": "StatementMeta(sparkpool, 6, 36, Finished, Available, Finished)"
          },
          "metadata": {}
        },
        {
          "output_type": "display_data",
          "data": {
            "text/plain": "<Figure size 640x480 with 1 Axes>",
            "image/png": "[encoded data removed]"
          },
          "metadata": {}
        }
      ],
      "execution_count": 36,
      "metadata": {
        "jupyter": {
          "source_hidden": false,
          "outputs_hidden": false
        },
        "nteract": {
          "transient": {
            "deleting": false
          }
        }
      }
    },
    {
      "cell_type": "code",
      "source": [
        "#train \r\n",
        "kmeans_algo=KMeans(featuresCol='standardized', k=4)\r\n",
        "kmeans_fit=kmeans_algo.fit(data_scale_output)"
      ],
      "outputs": [
        {
          "output_type": "display_data",
          "data": {
            "application/vnd.livy.statement-meta+json": {
              "spark_pool": "sparkpool",
              "statement_id": 37,
              "statement_ids": [
                37
              ],
              "state": "finished",
              "livy_statement_state": "available",
              "spark_jobs": null,
              "session_id": "6",
              "normalized_state": "finished",
              "queued_time": "2024-12-20T11:55:49.723443Z",
              "session_start_time": null,
              "execution_start_time": "2024-12-20T11:55:49.8979921Z",
              "execution_finish_time": "2024-12-20T11:55:54.2149912Z",
              "parent_msg_id": "40e7f2fc-9cb7-4a6e-a47a-ce3f4339a6bf"
            },
            "text/plain": "StatementMeta(sparkpool, 6, 37, Finished, Available, Finished)"
          },
          "metadata": {}
        }
      ],
      "execution_count": 37,
      "metadata": {
        "jupyter": {
          "source_hidden": false,
          "outputs_hidden": false
        },
        "nteract": {
          "transient": {
            "deleting": false
          }
        }
      }
    },
    {
      "cell_type": "code",
      "source": [
        "preds=kmeans_fit.transform(data_scale_output)\r\n",
        "preds.show(5)"
      ],
      "outputs": [
        {
          "output_type": "display_data",
          "data": {
            "application/vnd.livy.statement-meta+json": {
              "spark_pool": "sparkpool",
              "statement_id": 38,
              "statement_ids": [
                38
              ],
              "state": "finished",
              "livy_statement_state": "available",
              "spark_jobs": null,
              "session_id": "6",
              "normalized_state": "finished",
              "queued_time": "2024-12-20T11:55:55.8098442Z",
              "session_start_time": null,
              "execution_start_time": "2024-12-20T11:55:56.0046457Z",
              "execution_finish_time": "2024-12-20T11:55:57.2192671Z",
              "parent_msg_id": "2de0867a-f8cb-4653-882a-06446d562903"
            },
            "text/plain": "StatementMeta(sparkpool, 6, 38, Finished, Available, Finished)"
          },
          "metadata": {}
        },
        {
          "output_type": "stream",
          "name": "stdout",
          "text": [
            "+-----------+---------+--------------+----------+--------------------+--------------------+----------+\n|    recency|frequency|monetary_value|CustomerID|            features|        standardized|prediction|\n+-----------+---------+--------------+----------+--------------------+--------------------+----------+\n|28188540000|       41|        888.54|   13598.0|[2.818854E10,41.0...|[3.32954231013386...|         0|\n|31979520000|      121|       1500.13|   14825.0|[3.197952E10,121....|[3.77732102825375...|         0|\n| 5014440000|       11|        528.95|   12574.0|[5.01444E9,11.0,5...|[0.59228999237376...|         1|\n|24131040000|        2|         12.13|   13130.0|[2.413104E10,2.0,...|[2.85028308197348...|         0|\n|21713580000|       82|        369.66|   13162.0|[2.171358E10,82.0...|[2.56474025666020...|         0|\n+-----------+---------+--------------+----------+--------------------+--------------------+----------+\nonly showing top 5 rows\n\n"
          ]
        }
      ],
      "execution_count": 38,
      "metadata": {
        "jupyter": {
          "source_hidden": false,
          "outputs_hidden": false
        },
        "nteract": {
          "transient": {
            "deleting": false
          }
        },
        "collapsed": false
      }
    },
    {
      "cell_type": "code",
      "source": [
        "import matplotlib.pyplot as plt\r\n",
        "import seaborn as sns\r\n",
        "\r\n",
        "df_viz = preds.select('recency','frequency','monetary_value','prediction')\r\n",
        "df_viz = df_viz.toPandas()\r\n",
        "avg_df = df_viz.groupby(['prediction'], as_index=False).mean()\r\n",
        "\r\n",
        "list1 = ['recency','frequency','monetary_value']\r\n",
        "\r\n",
        "for i in list1:\r\n",
        "    sns.barplot(x='prediction',y=str(i),data=avg_df)\r\n",
        "    plt.show()\r\n"
      ],
      "outputs": [
        {
          "output_type": "display_data",
          "data": {
            "application/vnd.livy.statement-meta+json": {
              "spark_pool": "sparkpool",
              "statement_id": 39,
              "statement_ids": [
                39
              ],
              "state": "finished",
              "livy_statement_state": "available",
              "spark_jobs": null,
              "session_id": "6",
              "normalized_state": "finished",
              "queued_time": "2024-12-20T11:55:59.6797195Z",
              "session_start_time": null,
              "execution_start_time": "2024-12-20T11:55:59.848551Z",
              "execution_finish_time": "2024-12-20T11:56:01.8665137Z",
              "parent_msg_id": "1029bbd8-316d-4252-acaa-e5ca3b3b535f"
            },
            "text/plain": "StatementMeta(sparkpool, 6, 39, Finished, Available, Finished)"
          },
          "metadata": {}
        },
        {
          "output_type": "display_data",
          "data": {
            "text/plain": "<Figure size 640x480 with 1 Axes>",
            "image/png": "[encoded data removed]"
          },
          "metadata": {}
        },
        {
          "output_type": "display_data",
          "data": {
            "text/plain": "<Figure size 640x480 with 1 Axes>",
            "image/png": "[encoded data removed]"
          },
          "metadata": {}
        },
        {
          "output_type": "display_data",
          "data": {
            "text/plain": "<Figure size 640x480 with 1 Axes>",
            "image/png": "[encoded data removed]"
          },
          "metadata": {}
        }
      ],
      "execution_count": 39,
      "metadata": {
        "jupyter": {
          "source_hidden": false,
          "outputs_hidden": false
        },
        "nteract": {
          "transient": {
            "deleting": false
          }
        }
      }
    }
  ],
  "metadata": {
    "kernelspec": {
      "name": "synapse_pyspark",
      "display_name": "Synapse PySpark"
    },
    "language_info": {
      "name": "python"
    },
    "save_output": true,
    "synapse_widget": {
      "version": "0.1",
      "state": {
        "7691e7dd-2567-48f2-85c9-f8526fcc06ca": {
          "type": "Synapse.DataFrame",
          "sync_state": {
            "table": {
              "rows": [
                {
                  "0": "12346.0",
                  "1": "2.1632",
                  "2": "2",
                  "3": "4153860000"
                },
                {
                  "0": "12346.0",
                  "1": "2.1632",
                  "2": "2",
                  "3": "4153860000"
                },
                {
                  "0": "12347.0",
                  "1": "2193.0251",
                  "2": "182",
                  "3": "32081160000"
                },
                {
                  "0": "12347.0",
                  "1": "2193.0251",
                  "2": "182",
                  "3": "32081160000"
                },
                {
                  "0": "12347.0",
                  "1": "2193.0251",
                  "2": "182",
                  "3": "32081160000"
                },
                {
                  "0": "12347.0",
                  "1": "2193.0251",
                  "2": "182",
                  "3": "32081160000"
                },
                {
                  "0": "12347.0",
                  "1": "2193.0251",
                  "2": "182",
                  "3": "32081160000"
                },
                {
                  "0": "12347.0",
                  "1": "2193.0251",
                  "2": "182",
                  "3": "32081160000"
                },
                {
                  "0": "12347.0",
                  "1": "2193.0251",
                  "2": "182",
                  "3": "32081160000"
                },
                {
                  "0": "12347.0",
                  "1": "2193.0251",
                  "2": "182",
                  "3": "32081160000"
                },
                {
                  "0": "12347.0",
                  "1": "2193.0251",
                  "2": "182",
                  "3": "32081160000"
                },
                {
                  "0": "12347.0",
                  "1": "2193.0251",
                  "2": "182",
                  "3": "32081160000"
                },
                {
                  "0": "12347.0",
                  "1": "2193.0251",
                  "2": "182",
                  "3": "32081160000"
                },
                {
                  "0": "12347.0",
                  "1": "2193.0251",
                  "2": "182",
                  "3": "32081160000"
                },
                {
                  "0": "12347.0",
                  "1": "2193.0251",
                  "2": "182",
                  "3": "32081160000"
                },
                {
                  "0": "12347.0",
                  "1": "2193.0251",
                  "2": "182",
                  "3": "32081160000"
                },
                {
                  "0": "12347.0",
                  "1": "2193.0251",
                  "2": "182",
                  "3": "32081160000"
                },
                {
                  "0": "12347.0",
                  "1": "2193.0251",
                  "2": "182",
                  "3": "32081160000"
                },
                {
                  "0": "12347.0",
                  "1": "2193.0251",
                  "2": "182",
                  "3": "32081160000"
                },
                {
                  "0": "12347.0",
                  "1": "2193.0251",
                  "2": "182",
                  "3": "32081160000"
                },
                {
                  "0": "12347.0",
                  "1": "2193.0251",
                  "2": "182",
                  "3": "32081160000"
                },
                {
                  "0": "12347.0",
                  "1": "2193.0251",
                  "2": "182",
                  "3": "32081160000"
                },
                {
                  "0": "12347.0",
                  "1": "2193.0251",
                  "2": "182",
                  "3": "32081160000"
                },
                {
                  "0": "12347.0",
                  "1": "2193.0251",
                  "2": "182",
                  "3": "32081160000"
                },
                {
                  "0": "12347.0",
                  "1": "2193.0251",
                  "2": "182",
                  "3": "32081160000"
                },
                {
                  "0": "12347.0",
                  "1": "2193.0251",
                  "2": "182",
                  "3": "32081160000"
                },
                {
                  "0": "12347.0",
                  "1": "2193.0251",
                  "2": "182",
                  "3": "32081160000"
                },
                {
                  "0": "12347.0",
                  "1": "2193.0251",
                  "2": "182",
                  "3": "32081160000"
                },
                {
                  "0": "12347.0",
                  "1": "2193.0251",
                  "2": "182",
                  "3": "32081160000"
                },
                {
                  "0": "12347.0",
                  "1": "2193.0251",
                  "2": "182",
                  "3": "32081160000"
                },
                {
                  "0": "12347.0",
                  "1": "2193.0251",
                  "2": "182",
                  "3": "32081160000"
                },
                {
                  "0": "12347.0",
                  "1": "2193.0251",
                  "2": "182",
                  "3": "32081160000"
                },
                {
                  "0": "12347.0",
                  "1": "2193.0251",
                  "2": "182",
                  "3": "32081160000"
                },
                {
                  "0": "12347.0",
                  "1": "2193.0251",
                  "2": "182",
                  "3": "32081160000"
                },
                {
                  "0": "12347.0",
                  "1": "2193.0251",
                  "2": "182",
                  "3": "32081160000"
                },
                {
                  "0": "12347.0",
                  "1": "2193.0251",
                  "2": "182",
                  "3": "32081160000"
                },
                {
                  "0": "12347.0",
                  "1": "2193.0251",
                  "2": "182",
                  "3": "32081160000"
                },
                {
                  "0": "12347.0",
                  "1": "2193.0251",
                  "2": "182",
                  "3": "32081160000"
                },
                {
                  "0": "12347.0",
                  "1": "2193.0251",
                  "2": "182",
                  "3": "32081160000"
                },
                {
                  "0": "12347.0",
                  "1": "2193.0251",
                  "2": "182",
                  "3": "32081160000"
                },
                {
                  "0": "12347.0",
                  "1": "2193.0251",
                  "2": "182",
                  "3": "32081160000"
                },
                {
                  "0": "12347.0",
                  "1": "2193.0251",
                  "2": "182",
                  "3": "32081160000"
                },
                {
                  "0": "12347.0",
                  "1": "2193.0251",
                  "2": "182",
                  "3": "32081160000"
                },
                {
                  "0": "12347.0",
                  "1": "2193.0251",
                  "2": "182",
                  "3": "32081160000"
                },
                {
                  "0": "12347.0",
                  "1": "2193.0251",
                  "2": "182",
                  "3": "32081160000"
                },
                {
                  "0": "12347.0",
                  "1": "2193.0251",
                  "2": "182",
                  "3": "32081160000"
                },
                {
                  "0": "12347.0",
                  "1": "2193.0251",
                  "2": "182",
                  "3": "32081160000"
                },
                {
                  "0": "12347.0",
                  "1": "2193.0251",
                  "2": "182",
                  "3": "32081160000"
                },
                {
                  "0": "12347.0",
                  "1": "2193.0251",
                  "2": "182",
                  "3": "32081160000"
                },
                {
                  "0": "12347.0",
                  "1": "2193.0251",
                  "2": "182",
                  "3": "32081160000"
                },
                {
                  "0": "12347.0",
                  "1": "2193.0251",
                  "2": "182",
                  "3": "32081160000"
                },
                {
                  "0": "12347.0",
                  "1": "2193.0251",
                  "2": "182",
                  "3": "32081160000"
                },
                {
                  "0": "12347.0",
                  "1": "2193.0251",
                  "2": "182",
                  "3": "32081160000"
                },
                {
                  "0": "12347.0",
                  "1": "2193.0251",
                  "2": "182",
                  "3": "32081160000"
                },
                {
                  "0": "12347.0",
                  "1": "2193.0251",
                  "2": "182",
                  "3": "32081160000"
                },
                {
                  "0": "12347.0",
                  "1": "2193.0251",
                  "2": "182",
                  "3": "32081160000"
                },
                {
                  "0": "12347.0",
                  "1": "2193.0251",
                  "2": "182",
                  "3": "32081160000"
                },
                {
                  "0": "12347.0",
                  "1": "2193.0251",
                  "2": "182",
                  "3": "32081160000"
                },
                {
                  "0": "12347.0",
                  "1": "2193.0251",
                  "2": "182",
                  "3": "32081160000"
                },
                {
                  "0": "12347.0",
                  "1": "2193.0251",
                  "2": "182",
                  "3": "32081160000"
                },
                {
                  "0": "12347.0",
                  "1": "2193.0251",
                  "2": "182",
                  "3": "32081160000"
                },
                {
                  "0": "12347.0",
                  "1": "2193.0251",
                  "2": "182",
                  "3": "32081160000"
                },
                {
                  "0": "12347.0",
                  "1": "2193.0251",
                  "2": "182",
                  "3": "32081160000"
                },
                {
                  "0": "12347.0",
                  "1": "2193.0251",
                  "2": "182",
                  "3": "32081160000"
                },
                {
                  "0": "12347.0",
                  "1": "2193.0251",
                  "2": "182",
                  "3": "32081160000"
                },
                {
                  "0": "12347.0",
                  "1": "2193.0251",
                  "2": "182",
                  "3": "32081160000"
                },
                {
                  "0": "12347.0",
                  "1": "2193.0251",
                  "2": "182",
                  "3": "32081160000"
                },
                {
                  "0": "12347.0",
                  "1": "2193.0251",
                  "2": "182",
                  "3": "32081160000"
                },
                {
                  "0": "12347.0",
                  "1": "2193.0251",
                  "2": "182",
                  "3": "32081160000"
                },
                {
                  "0": "12347.0",
                  "1": "2193.0251",
                  "2": "182",
                  "3": "32081160000"
                },
                {
                  "0": "12347.0",
                  "1": "2193.0251",
                  "2": "182",
                  "3": "32081160000"
                },
                {
                  "0": "12347.0",
                  "1": "2193.0251",
                  "2": "182",
                  "3": "32081160000"
                },
                {
                  "0": "12347.0",
                  "1": "2193.0251",
                  "2": "182",
                  "3": "32081160000"
                },
                {
                  "0": "12347.0",
                  "1": "2193.0251",
                  "2": "182",
                  "3": "32081160000"
                },
                {
                  "0": "12347.0",
                  "1": "2193.0251",
                  "2": "182",
                  "3": "32081160000"
                },
                {
                  "0": "12347.0",
                  "1": "2193.0251",
                  "2": "182",
                  "3": "32081160000"
                },
                {
                  "0": "12347.0",
                  "1": "2193.0251",
                  "2": "182",
                  "3": "32081160000"
                },
                {
                  "0": "12347.0",
                  "1": "2193.0251",
                  "2": "182",
                  "3": "32081160000"
                },
                {
                  "0": "12347.0",
                  "1": "2193.0251",
                  "2": "182",
                  "3": "32081160000"
                },
                {
                  "0": "12347.0",
                  "1": "2193.0251",
                  "2": "182",
                  "3": "32081160000"
                },
                {
                  "0": "12347.0",
                  "1": "2193.0251",
                  "2": "182",
                  "3": "32081160000"
                },
                {
                  "0": "12347.0",
                  "1": "2193.0251",
                  "2": "182",
                  "3": "32081160000"
                },
                {
                  "0": "12347.0",
                  "1": "2193.0251",
                  "2": "182",
                  "3": "32081160000"
                },
                {
                  "0": "12347.0",
                  "1": "2193.0251",
                  "2": "182",
                  "3": "32081160000"
                },
                {
                  "0": "12347.0",
                  "1": "2193.0251",
                  "2": "182",
                  "3": "32081160000"
                },
                {
                  "0": "12347.0",
                  "1": "2193.0251",
                  "2": "182",
                  "3": "32081160000"
                },
                {
                  "0": "12347.0",
                  "1": "2193.0251",
                  "2": "182",
                  "3": "32081160000"
                },
                {
                  "0": "12347.0",
                  "1": "2193.0251",
                  "2": "182",
                  "3": "32081160000"
                },
                {
                  "0": "12347.0",
                  "1": "2193.0251",
                  "2": "182",
                  "3": "32081160000"
                },
                {
                  "0": "12347.0",
                  "1": "2193.0251",
                  "2": "182",
                  "3": "32081160000"
                },
                {
                  "0": "12347.0",
                  "1": "2193.0251",
                  "2": "182",
                  "3": "32081160000"
                },
                {
                  "0": "12347.0",
                  "1": "2193.0251",
                  "2": "182",
                  "3": "32081160000"
                },
                {
                  "0": "12347.0",
                  "1": "2193.0251",
                  "2": "182",
                  "3": "32081160000"
                },
                {
                  "0": "12347.0",
                  "1": "2193.0251",
                  "2": "182",
                  "3": "32081160000"
                },
                {
                  "0": "12347.0",
                  "1": "2193.0251",
                  "2": "182",
                  "3": "32081160000"
                },
                {
                  "0": "12347.0",
                  "1": "2193.0251",
                  "2": "182",
                  "3": "32081160000"
                },
                {
                  "0": "12347.0",
                  "1": "2193.0251",
                  "2": "182",
                  "3": "32081160000"
                },
                {
                  "0": "12347.0",
                  "1": "2193.0251",
                  "2": "182",
                  "3": "32081160000"
                },
                {
                  "0": "12347.0",
                  "1": "2193.0251",
                  "2": "182",
                  "3": "32081160000"
                },
                {
                  "0": "12347.0",
                  "1": "2193.0251",
                  "2": "182",
                  "3": "32081160000"
                },
                {
                  "0": "12347.0",
                  "1": "2193.0251",
                  "2": "182",
                  "3": "32081160000"
                },
                {
                  "0": "12347.0",
                  "1": "2193.0251",
                  "2": "182",
                  "3": "32081160000"
                },
                {
                  "0": "12347.0",
                  "1": "2193.0251",
                  "2": "182",
                  "3": "32081160000"
                },
                {
                  "0": "12347.0",
                  "1": "2193.0251",
                  "2": "182",
                  "3": "32081160000"
                },
                {
                  "0": "12347.0",
                  "1": "2193.0251",
                  "2": "182",
                  "3": "32081160000"
                },
                {
                  "0": "12347.0",
                  "1": "2193.0251",
                  "2": "182",
                  "3": "32081160000"
                },
                {
                  "0": "12347.0",
                  "1": "2193.0251",
                  "2": "182",
                  "3": "32081160000"
                },
                {
                  "0": "12347.0",
                  "1": "2193.0251",
                  "2": "182",
                  "3": "32081160000"
                },
                {
                  "0": "12347.0",
                  "1": "2193.0251",
                  "2": "182",
                  "3": "32081160000"
                },
                {
                  "0": "12347.0",
                  "1": "2193.0251",
                  "2": "182",
                  "3": "32081160000"
                },
                {
                  "0": "12347.0",
                  "1": "2193.0251",
                  "2": "182",
                  "3": "32081160000"
                },
                {
                  "0": "12347.0",
                  "1": "2193.0251",
                  "2": "182",
                  "3": "32081160000"
                },
                {
                  "0": "12347.0",
                  "1": "2193.0251",
                  "2": "182",
                  "3": "32081160000"
                },
                {
                  "0": "12347.0",
                  "1": "2193.0251",
                  "2": "182",
                  "3": "32081160000"
                },
                {
                  "0": "12347.0",
                  "1": "2193.0251",
                  "2": "182",
                  "3": "32081160000"
                },
                {
                  "0": "12347.0",
                  "1": "2193.0251",
                  "2": "182",
                  "3": "32081160000"
                },
                {
                  "0": "12347.0",
                  "1": "2193.0251",
                  "2": "182",
                  "3": "32081160000"
                },
                {
                  "0": "12347.0",
                  "1": "2193.0251",
                  "2": "182",
                  "3": "32081160000"
                },
                {
                  "0": "12347.0",
                  "1": "2193.0251",
                  "2": "182",
                  "3": "32081160000"
                },
                {
                  "0": "12347.0",
                  "1": "2193.0251",
                  "2": "182",
                  "3": "32081160000"
                },
                {
                  "0": "12347.0",
                  "1": "2193.0251",
                  "2": "182",
                  "3": "32081160000"
                },
                {
                  "0": "12347.0",
                  "1": "2193.0251",
                  "2": "182",
                  "3": "32081160000"
                },
                {
                  "0": "12347.0",
                  "1": "2193.0251",
                  "2": "182",
                  "3": "32081160000"
                },
                {
                  "0": "12347.0",
                  "1": "2193.0251",
                  "2": "182",
                  "3": "32081160000"
                },
                {
                  "0": "12347.0",
                  "1": "2193.0251",
                  "2": "182",
                  "3": "32081160000"
                },
                {
                  "0": "12347.0",
                  "1": "2193.0251",
                  "2": "182",
                  "3": "32081160000"
                },
                {
                  "0": "12347.0",
                  "1": "2193.0251",
                  "2": "182",
                  "3": "32081160000"
                },
                {
                  "0": "12347.0",
                  "1": "2193.0251",
                  "2": "182",
                  "3": "32081160000"
                },
                {
                  "0": "12347.0",
                  "1": "2193.0251",
                  "2": "182",
                  "3": "32081160000"
                },
                {
                  "0": "12347.0",
                  "1": "2193.0251",
                  "2": "182",
                  "3": "32081160000"
                },
                {
                  "0": "12347.0",
                  "1": "2193.0251",
                  "2": "182",
                  "3": "32081160000"
                },
                {
                  "0": "12347.0",
                  "1": "2193.0251",
                  "2": "182",
                  "3": "32081160000"
                },
                {
                  "0": "12347.0",
                  "1": "2193.0251",
                  "2": "182",
                  "3": "32081160000"
                },
                {
                  "0": "12347.0",
                  "1": "2193.0251",
                  "2": "182",
                  "3": "32081160000"
                },
                {
                  "0": "12347.0",
                  "1": "2193.0251",
                  "2": "182",
                  "3": "32081160000"
                },
                {
                  "0": "12347.0",
                  "1": "2193.0251",
                  "2": "182",
                  "3": "32081160000"
                },
                {
                  "0": "12347.0",
                  "1": "2193.0251",
                  "2": "182",
                  "3": "32081160000"
                },
                {
                  "0": "12347.0",
                  "1": "2193.0251",
                  "2": "182",
                  "3": "32081160000"
                },
                {
                  "0": "12347.0",
                  "1": "2193.0251",
                  "2": "182",
                  "3": "32081160000"
                },
                {
                  "0": "12347.0",
                  "1": "2193.0251",
                  "2": "182",
                  "3": "32081160000"
                },
                {
                  "0": "12347.0",
                  "1": "2193.0251",
                  "2": "182",
                  "3": "32081160000"
                },
                {
                  "0": "12347.0",
                  "1": "2193.0251",
                  "2": "182",
                  "3": "32081160000"
                },
                {
                  "0": "12347.0",
                  "1": "2193.0251",
                  "2": "182",
                  "3": "32081160000"
                },
                {
                  "0": "12347.0",
                  "1": "2193.0251",
                  "2": "182",
                  "3": "32081160000"
                },
                {
                  "0": "12347.0",
                  "1": "2193.0251",
                  "2": "182",
                  "3": "32081160000"
                },
                {
                  "0": "12347.0",
                  "1": "2193.0251",
                  "2": "182",
                  "3": "32081160000"
                },
                {
                  "0": "12347.0",
                  "1": "2193.0251",
                  "2": "182",
                  "3": "32081160000"
                },
                {
                  "0": "12347.0",
                  "1": "2193.0251",
                  "2": "182",
                  "3": "32081160000"
                },
                {
                  "0": "12347.0",
                  "1": "2193.0251",
                  "2": "182",
                  "3": "32081160000"
                },
                {
                  "0": "12347.0",
                  "1": "2193.0251",
                  "2": "182",
                  "3": "32081160000"
                },
                {
                  "0": "12347.0",
                  "1": "2193.0251",
                  "2": "182",
                  "3": "32081160000"
                },
                {
                  "0": "12347.0",
                  "1": "2193.0251",
                  "2": "182",
                  "3": "32081160000"
                },
                {
                  "0": "12347.0",
                  "1": "2193.0251",
                  "2": "182",
                  "3": "32081160000"
                },
                {
                  "0": "12347.0",
                  "1": "2193.0251",
                  "2": "182",
                  "3": "32081160000"
                },
                {
                  "0": "12347.0",
                  "1": "2193.0251",
                  "2": "182",
                  "3": "32081160000"
                },
                {
                  "0": "12347.0",
                  "1": "2193.0251",
                  "2": "182",
                  "3": "32081160000"
                },
                {
                  "0": "12347.0",
                  "1": "2193.0251",
                  "2": "182",
                  "3": "32081160000"
                },
                {
                  "0": "12347.0",
                  "1": "2193.0251",
                  "2": "182",
                  "3": "32081160000"
                },
                {
                  "0": "12347.0",
                  "1": "2193.0251",
                  "2": "182",
                  "3": "32081160000"
                },
                {
                  "0": "12347.0",
                  "1": "2193.0251",
                  "2": "182",
                  "3": "32081160000"
                },
                {
                  "0": "12347.0",
                  "1": "2193.0251",
                  "2": "182",
                  "3": "32081160000"
                },
                {
                  "0": "12347.0",
                  "1": "2193.0251",
                  "2": "182",
                  "3": "32081160000"
                },
                {
                  "0": "12347.0",
                  "1": "2193.0251",
                  "2": "182",
                  "3": "32081160000"
                },
                {
                  "0": "12347.0",
                  "1": "2193.0251",
                  "2": "182",
                  "3": "32081160000"
                },
                {
                  "0": "12347.0",
                  "1": "2193.0251",
                  "2": "182",
                  "3": "32081160000"
                },
                {
                  "0": "12347.0",
                  "1": "2193.0251",
                  "2": "182",
                  "3": "32081160000"
                },
                {
                  "0": "12347.0",
                  "1": "2193.0251",
                  "2": "182",
                  "3": "32081160000"
                },
                {
                  "0": "12347.0",
                  "1": "2193.0251",
                  "2": "182",
                  "3": "32081160000"
                },
                {
                  "0": "12347.0",
                  "1": "2193.0251",
                  "2": "182",
                  "3": "32081160000"
                },
                {
                  "0": "12347.0",
                  "1": "2193.0251",
                  "2": "182",
                  "3": "32081160000"
                },
                {
                  "0": "12347.0",
                  "1": "2193.0251",
                  "2": "182",
                  "3": "32081160000"
                },
                {
                  "0": "12347.0",
                  "1": "2193.0251",
                  "2": "182",
                  "3": "32081160000"
                },
                {
                  "0": "12347.0",
                  "1": "2193.0251",
                  "2": "182",
                  "3": "32081160000"
                },
                {
                  "0": "12347.0",
                  "1": "2193.0251",
                  "2": "182",
                  "3": "32081160000"
                },
                {
                  "0": "12347.0",
                  "1": "2193.0251",
                  "2": "182",
                  "3": "32081160000"
                },
                {
                  "0": "12347.0",
                  "1": "2193.0251",
                  "2": "182",
                  "3": "32081160000"
                },
                {
                  "0": "12347.0",
                  "1": "2193.0251",
                  "2": "182",
                  "3": "32081160000"
                },
                {
                  "0": "12347.0",
                  "1": "2193.0251",
                  "2": "182",
                  "3": "32081160000"
                },
                {
                  "0": "12347.0",
                  "1": "2193.0251",
                  "2": "182",
                  "3": "32081160000"
                },
                {
                  "0": "12347.0",
                  "1": "2193.0251",
                  "2": "182",
                  "3": "32081160000"
                },
                {
                  "0": "12347.0",
                  "1": "2193.0251",
                  "2": "182",
                  "3": "32081160000"
                },
                {
                  "0": "12347.0",
                  "1": "2193.0251",
                  "2": "182",
                  "3": "32081160000"
                },
                {
                  "0": "12347.0",
                  "1": "2193.0251",
                  "2": "182",
                  "3": "32081160000"
                },
                {
                  "0": "12347.0",
                  "1": "2193.0251",
                  "2": "182",
                  "3": "32081160000"
                },
                {
                  "0": "12349.0",
                  "1": "93356.9820",
                  "2": "73",
                  "3": "30677100000"
                },
                {
                  "0": "12349.0",
                  "1": "93356.9820",
                  "2": "73",
                  "3": "30677100000"
                },
                {
                  "0": "12349.0",
                  "1": "93356.9820",
                  "2": "73",
                  "3": "30677100000"
                },
                {
                  "0": "12349.0",
                  "1": "93356.9820",
                  "2": "73",
                  "3": "30677100000"
                },
                {
                  "0": "12349.0",
                  "1": "93356.9820",
                  "2": "73",
                  "3": "30677100000"
                },
                {
                  "0": "12349.0",
                  "1": "93356.9820",
                  "2": "73",
                  "3": "30677100000"
                },
                {
                  "0": "12349.0",
                  "1": "93356.9820",
                  "2": "73",
                  "3": "30677100000"
                },
                {
                  "0": "12349.0",
                  "1": "93356.9820",
                  "2": "73",
                  "3": "30677100000"
                },
                {
                  "0": "12349.0",
                  "1": "93356.9820",
                  "2": "73",
                  "3": "30677100000"
                },
                {
                  "0": "12349.0",
                  "1": "93356.9820",
                  "2": "73",
                  "3": "30677100000"
                },
                {
                  "0": "12349.0",
                  "1": "93356.9820",
                  "2": "73",
                  "3": "30677100000"
                },
                {
                  "0": "12349.0",
                  "1": "93356.9820",
                  "2": "73",
                  "3": "30677100000"
                },
                {
                  "0": "12349.0",
                  "1": "93356.9820",
                  "2": "73",
                  "3": "30677100000"
                },
                {
                  "0": "12349.0",
                  "1": "93356.9820",
                  "2": "73",
                  "3": "30677100000"
                },
                {
                  "0": "12349.0",
                  "1": "93356.9820",
                  "2": "73",
                  "3": "30677100000"
                },
                {
                  "0": "12349.0",
                  "1": "93356.9820",
                  "2": "73",
                  "3": "30677100000"
                },
                {
                  "0": "12349.0",
                  "1": "93356.9820",
                  "2": "73",
                  "3": "30677100000"
                },
                {
                  "0": "12349.0",
                  "1": "93356.9820",
                  "2": "73",
                  "3": "30677100000"
                },
                {
                  "0": "12349.0",
                  "1": "93356.9820",
                  "2": "73",
                  "3": "30677100000"
                },
                {
                  "0": "12349.0",
                  "1": "93356.9820",
                  "2": "73",
                  "3": "30677100000"
                },
                {
                  "0": "12349.0",
                  "1": "93356.9820",
                  "2": "73",
                  "3": "30677100000"
                },
                {
                  "0": "12349.0",
                  "1": "93356.9820",
                  "2": "73",
                  "3": "30677100000"
                },
                {
                  "0": "12349.0",
                  "1": "93356.9820",
                  "2": "73",
                  "3": "30677100000"
                },
                {
                  "0": "12349.0",
                  "1": "93356.9820",
                  "2": "73",
                  "3": "30677100000"
                },
                {
                  "0": "12349.0",
                  "1": "93356.9820",
                  "2": "73",
                  "3": "30677100000"
                },
                {
                  "0": "12349.0",
                  "1": "93356.9820",
                  "2": "73",
                  "3": "30677100000"
                },
                {
                  "0": "12349.0",
                  "1": "93356.9820",
                  "2": "73",
                  "3": "30677100000"
                },
                {
                  "0": "12349.0",
                  "1": "93356.9820",
                  "2": "73",
                  "3": "30677100000"
                },
                {
                  "0": "12349.0",
                  "1": "93356.9820",
                  "2": "73",
                  "3": "30677100000"
                },
                {
                  "0": "12349.0",
                  "1": "93356.9820",
                  "2": "73",
                  "3": "30677100000"
                },
                {
                  "0": "12349.0",
                  "1": "93356.9820",
                  "2": "73",
                  "3": "30677100000"
                },
                {
                  "0": "12349.0",
                  "1": "93356.9820",
                  "2": "73",
                  "3": "30677100000"
                },
                {
                  "0": "12349.0",
                  "1": "93356.9820",
                  "2": "73",
                  "3": "30677100000"
                },
                {
                  "0": "12349.0",
                  "1": "93356.9820",
                  "2": "73",
                  "3": "30677100000"
                },
                {
                  "0": "12349.0",
                  "1": "93356.9820",
                  "2": "73",
                  "3": "30677100000"
                },
                {
                  "0": "12349.0",
                  "1": "93356.9820",
                  "2": "73",
                  "3": "30677100000"
                },
                {
                  "0": "12349.0",
                  "1": "93356.9820",
                  "2": "73",
                  "3": "30677100000"
                },
                {
                  "0": "12349.0",
                  "1": "93356.9820",
                  "2": "73",
                  "3": "30677100000"
                },
                {
                  "0": "12349.0",
                  "1": "93356.9820",
                  "2": "73",
                  "3": "30677100000"
                },
                {
                  "0": "12349.0",
                  "1": "93356.9820",
                  "2": "73",
                  "3": "30677100000"
                },
                {
                  "0": "12349.0",
                  "1": "93356.9820",
                  "2": "73",
                  "3": "30677100000"
                },
                {
                  "0": "12349.0",
                  "1": "93356.9820",
                  "2": "73",
                  "3": "30677100000"
                },
                {
                  "0": "12349.0",
                  "1": "93356.9820",
                  "2": "73",
                  "3": "30677100000"
                },
                {
                  "0": "12349.0",
                  "1": "93356.9820",
                  "2": "73",
                  "3": "30677100000"
                },
                {
                  "0": "12349.0",
                  "1": "93356.9820",
                  "2": "73",
                  "3": "30677100000"
                },
                {
                  "0": "12349.0",
                  "1": "93356.9820",
                  "2": "73",
                  "3": "30677100000"
                },
                {
                  "0": "12349.0",
                  "1": "93356.9820",
                  "2": "73",
                  "3": "30677100000"
                },
                {
                  "0": "12349.0",
                  "1": "93356.9820",
                  "2": "73",
                  "3": "30677100000"
                },
                {
                  "0": "12349.0",
                  "1": "93356.9820",
                  "2": "73",
                  "3": "30677100000"
                },
                {
                  "0": "12349.0",
                  "1": "93356.9820",
                  "2": "73",
                  "3": "30677100000"
                },
                {
                  "0": "12349.0",
                  "1": "93356.9820",
                  "2": "73",
                  "3": "30677100000"
                },
                {
                  "0": "12349.0",
                  "1": "93356.9820",
                  "2": "73",
                  "3": "30677100000"
                },
                {
                  "0": "12349.0",
                  "1": "93356.9820",
                  "2": "73",
                  "3": "30677100000"
                },
                {
                  "0": "12349.0",
                  "1": "93356.9820",
                  "2": "73",
                  "3": "30677100000"
                },
                {
                  "0": "12349.0",
                  "1": "93356.9820",
                  "2": "73",
                  "3": "30677100000"
                },
                {
                  "0": "12349.0",
                  "1": "93356.9820",
                  "2": "73",
                  "3": "30677100000"
                },
                {
                  "0": "12349.0",
                  "1": "93356.9820",
                  "2": "73",
                  "3": "30677100000"
                },
                {
                  "0": "12349.0",
                  "1": "93356.9820",
                  "2": "73",
                  "3": "30677100000"
                },
                {
                  "0": "12349.0",
                  "1": "93356.9820",
                  "2": "73",
                  "3": "30677100000"
                },
                {
                  "0": "12349.0",
                  "1": "93356.9820",
                  "2": "73",
                  "3": "30677100000"
                },
                {
                  "0": "12349.0",
                  "1": "93356.9820",
                  "2": "73",
                  "3": "30677100000"
                },
                {
                  "0": "12349.0",
                  "1": "93356.9820",
                  "2": "73",
                  "3": "30677100000"
                },
                {
                  "0": "12349.0",
                  "1": "93356.9820",
                  "2": "73",
                  "3": "30677100000"
                },
                {
                  "0": "12349.0",
                  "1": "93356.9820",
                  "2": "73",
                  "3": "30677100000"
                },
                {
                  "0": "12349.0",
                  "1": "93356.9820",
                  "2": "73",
                  "3": "30677100000"
                },
                {
                  "0": "12349.0",
                  "1": "93356.9820",
                  "2": "73",
                  "3": "30677100000"
                },
                {
                  "0": "12349.0",
                  "1": "93356.9820",
                  "2": "73",
                  "3": "30677100000"
                },
                {
                  "0": "12349.0",
                  "1": "93356.9820",
                  "2": "73",
                  "3": "30677100000"
                },
                {
                  "0": "12349.0",
                  "1": "93356.9820",
                  "2": "73",
                  "3": "30677100000"
                },
                {
                  "0": "12349.0",
                  "1": "93356.9820",
                  "2": "73",
                  "3": "30677100000"
                },
                {
                  "0": "12349.0",
                  "1": "93356.9820",
                  "2": "73",
                  "3": "30677100000"
                },
                {
                  "0": "12349.0",
                  "1": "93356.9820",
                  "2": "73",
                  "3": "30677100000"
                },
                {
                  "0": "12349.0",
                  "1": "93356.9820",
                  "2": "73",
                  "3": "30677100000"
                },
                {
                  "0": "12350.0",
                  "1": "1645.0300",
                  "2": "17",
                  "3": "5470500000"
                },
                {
                  "0": "12350.0",
                  "1": "1645.0300",
                  "2": "17",
                  "3": "5470500000"
                },
                {
                  "0": "12350.0",
                  "1": "1645.0300",
                  "2": "17",
                  "3": "5470500000"
                },
                {
                  "0": "12350.0",
                  "1": "1645.0300",
                  "2": "17",
                  "3": "5470500000"
                },
                {
                  "0": "12350.0",
                  "1": "1645.0300",
                  "2": "17",
                  "3": "5470500000"
                },
                {
                  "0": "12350.0",
                  "1": "1645.0300",
                  "2": "17",
                  "3": "5470500000"
                },
                {
                  "0": "12350.0",
                  "1": "1645.0300",
                  "2": "17",
                  "3": "5470500000"
                },
                {
                  "0": "12350.0",
                  "1": "1645.0300",
                  "2": "17",
                  "3": "5470500000"
                },
                {
                  "0": "12350.0",
                  "1": "1645.0300",
                  "2": "17",
                  "3": "5470500000"
                },
                {
                  "0": "12350.0",
                  "1": "1645.0300",
                  "2": "17",
                  "3": "5470500000"
                },
                {
                  "0": "12350.0",
                  "1": "1645.0300",
                  "2": "17",
                  "3": "5470500000"
                },
                {
                  "0": "12350.0",
                  "1": "1645.0300",
                  "2": "17",
                  "3": "5470500000"
                },
                {
                  "0": "12350.0",
                  "1": "1645.0300",
                  "2": "17",
                  "3": "5470500000"
                },
                {
                  "0": "12350.0",
                  "1": "1645.0300",
                  "2": "17",
                  "3": "5470500000"
                },
                {
                  "0": "12350.0",
                  "1": "1645.0300",
                  "2": "17",
                  "3": "5470500000"
                },
                {
                  "0": "12350.0",
                  "1": "1645.0300",
                  "2": "17",
                  "3": "5470500000"
                },
                {
                  "0": "12350.0",
                  "1": "1645.0300",
                  "2": "17",
                  "3": "5470500000"
                },
                {
                  "0": "12352.0",
                  "1": "517853.7742",
                  "2": "95",
                  "3": "29139060000"
                },
                {
                  "0": "12352.0",
                  "1": "517853.7742",
                  "2": "95",
                  "3": "29139060000"
                },
                {
                  "0": "12352.0",
                  "1": "517853.7742",
                  "2": "95",
                  "3": "29139060000"
                },
                {
                  "0": "12352.0",
                  "1": "517853.7742",
                  "2": "95",
                  "3": "29139060000"
                },
                {
                  "0": "12352.0",
                  "1": "517853.7742",
                  "2": "95",
                  "3": "29139060000"
                },
                {
                  "0": "12352.0",
                  "1": "517853.7742",
                  "2": "95",
                  "3": "29139060000"
                },
                {
                  "0": "12352.0",
                  "1": "517853.7742",
                  "2": "95",
                  "3": "29139060000"
                },
                {
                  "0": "12352.0",
                  "1": "517853.7742",
                  "2": "95",
                  "3": "29139060000"
                },
                {
                  "0": "12352.0",
                  "1": "517853.7742",
                  "2": "95",
                  "3": "29139060000"
                },
                {
                  "0": "12352.0",
                  "1": "517853.7742",
                  "2": "95",
                  "3": "29139060000"
                },
                {
                  "0": "12352.0",
                  "1": "517853.7742",
                  "2": "95",
                  "3": "29139060000"
                },
                {
                  "0": "12352.0",
                  "1": "517853.7742",
                  "2": "95",
                  "3": "29139060000"
                },
                {
                  "0": "12352.0",
                  "1": "517853.7742",
                  "2": "95",
                  "3": "29139060000"
                },
                {
                  "0": "12352.0",
                  "1": "517853.7742",
                  "2": "95",
                  "3": "29139060000"
                },
                {
                  "0": "12352.0",
                  "1": "517853.7742",
                  "2": "95",
                  "3": "29139060000"
                },
                {
                  "0": "12352.0",
                  "1": "517853.7742",
                  "2": "95",
                  "3": "29139060000"
                },
                {
                  "0": "12352.0",
                  "1": "517853.7742",
                  "2": "95",
                  "3": "29139060000"
                },
                {
                  "0": "12352.0",
                  "1": "517853.7742",
                  "2": "95",
                  "3": "29139060000"
                },
                {
                  "0": "12352.0",
                  "1": "517853.7742",
                  "2": "95",
                  "3": "29139060000"
                },
                {
                  "0": "12352.0",
                  "1": "517853.7742",
                  "2": "95",
                  "3": "29139060000"
                },
                {
                  "0": "12352.0",
                  "1": "517853.7742",
                  "2": "95",
                  "3": "29139060000"
                },
                {
                  "0": "12352.0",
                  "1": "517853.7742",
                  "2": "95",
                  "3": "29139060000"
                },
                {
                  "0": "12352.0",
                  "1": "517853.7742",
                  "2": "95",
                  "3": "29139060000"
                },
                {
                  "0": "12352.0",
                  "1": "517853.7742",
                  "2": "95",
                  "3": "29139060000"
                },
                {
                  "0": "12352.0",
                  "1": "517853.7742",
                  "2": "95",
                  "3": "29139060000"
                },
                {
                  "0": "12352.0",
                  "1": "517853.7742",
                  "2": "95",
                  "3": "29139060000"
                },
                {
                  "0": "12352.0",
                  "1": "517853.7742",
                  "2": "95",
                  "3": "29139060000"
                },
                {
                  "0": "12352.0",
                  "1": "517853.7742",
                  "2": "95",
                  "3": "29139060000"
                },
                {
                  "0": "12352.0",
                  "1": "517853.7742",
                  "2": "95",
                  "3": "29139060000"
                },
                {
                  "0": "12352.0",
                  "1": "517853.7742",
                  "2": "95",
                  "3": "29139060000"
                },
                {
                  "0": "12352.0",
                  "1": "517853.7742",
                  "2": "95",
                  "3": "29139060000"
                },
                {
                  "0": "12352.0",
                  "1": "517853.7742",
                  "2": "95",
                  "3": "29139060000"
                },
                {
                  "0": "12352.0",
                  "1": "517853.7742",
                  "2": "95",
                  "3": "29139060000"
                },
                {
                  "0": "12352.0",
                  "1": "517853.7742",
                  "2": "95",
                  "3": "29139060000"
                },
                {
                  "0": "12352.0",
                  "1": "517853.7742",
                  "2": "95",
                  "3": "29139060000"
                },
                {
                  "0": "12352.0",
                  "1": "517853.7742",
                  "2": "95",
                  "3": "29139060000"
                },
                {
                  "0": "12352.0",
                  "1": "517853.7742",
                  "2": "95",
                  "3": "29139060000"
                },
                {
                  "0": "12352.0",
                  "1": "517853.7742",
                  "2": "95",
                  "3": "29139060000"
                },
                {
                  "0": "12352.0",
                  "1": "517853.7742",
                  "2": "95",
                  "3": "29139060000"
                },
                {
                  "0": "12352.0",
                  "1": "517853.7742",
                  "2": "95",
                  "3": "29139060000"
                },
                {
                  "0": "12352.0",
                  "1": "517853.7742",
                  "2": "95",
                  "3": "29139060000"
                },
                {
                  "0": "12352.0",
                  "1": "517853.7742",
                  "2": "95",
                  "3": "29139060000"
                },
                {
                  "0": "12352.0",
                  "1": "517853.7742",
                  "2": "95",
                  "3": "29139060000"
                },
                {
                  "0": "12352.0",
                  "1": "517853.7742",
                  "2": "95",
                  "3": "29139060000"
                },
                {
                  "0": "12352.0",
                  "1": "517853.7742",
                  "2": "95",
                  "3": "29139060000"
                },
                {
                  "0": "12352.0",
                  "1": "517853.7742",
                  "2": "95",
                  "3": "29139060000"
                },
                {
                  "0": "12352.0",
                  "1": "517853.7742",
                  "2": "95",
                  "3": "29139060000"
                },
                {
                  "0": "12352.0",
                  "1": "517853.7742",
                  "2": "95",
                  "3": "29139060000"
                },
                {
                  "0": "12352.0",
                  "1": "517853.7742",
                  "2": "95",
                  "3": "29139060000"
                },
                {
                  "0": "12352.0",
                  "1": "517853.7742",
                  "2": "95",
                  "3": "29139060000"
                },
                {
                  "0": "12352.0",
                  "1": "517853.7742",
                  "2": "95",
                  "3": "29139060000"
                },
                {
                  "0": "12352.0",
                  "1": "517853.7742",
                  "2": "95",
                  "3": "29139060000"
                },
                {
                  "0": "12352.0",
                  "1": "517853.7742",
                  "2": "95",
                  "3": "29139060000"
                },
                {
                  "0": "12352.0",
                  "1": "517853.7742",
                  "2": "95",
                  "3": "29139060000"
                },
                {
                  "0": "12352.0",
                  "1": "517853.7742",
                  "2": "95",
                  "3": "29139060000"
                },
                {
                  "0": "12352.0",
                  "1": "517853.7742",
                  "2": "95",
                  "3": "29139060000"
                },
                {
                  "0": "12352.0",
                  "1": "517853.7742",
                  "2": "95",
                  "3": "29139060000"
                },
                {
                  "0": "12352.0",
                  "1": "517853.7742",
                  "2": "95",
                  "3": "29139060000"
                },
                {
                  "0": "12352.0",
                  "1": "517853.7742",
                  "2": "95",
                  "3": "29139060000"
                },
                {
                  "0": "12352.0",
                  "1": "517853.7742",
                  "2": "95",
                  "3": "29139060000"
                },
                {
                  "0": "12352.0",
                  "1": "517853.7742",
                  "2": "95",
                  "3": "29139060000"
                },
                {
                  "0": "12352.0",
                  "1": "517853.7742",
                  "2": "95",
                  "3": "29139060000"
                },
                {
                  "0": "12352.0",
                  "1": "517853.7742",
                  "2": "95",
                  "3": "29139060000"
                },
                {
                  "0": "12352.0",
                  "1": "517853.7742",
                  "2": "95",
                  "3": "29139060000"
                },
                {
                  "0": "12352.0",
                  "1": "517853.7742",
                  "2": "95",
                  "3": "29139060000"
                },
                {
                  "0": "12352.0",
                  "1": "517853.7742",
                  "2": "95",
                  "3": "29139060000"
                },
                {
                  "0": "12352.0",
                  "1": "517853.7742",
                  "2": "95",
                  "3": "29139060000"
                },
                {
                  "0": "12352.0",
                  "1": "517853.7742",
                  "2": "95",
                  "3": "29139060000"
                },
                {
                  "0": "12352.0",
                  "1": "517853.7742",
                  "2": "95",
                  "3": "29139060000"
                },
                {
                  "0": "12352.0",
                  "1": "517853.7742",
                  "2": "95",
                  "3": "29139060000"
                },
                {
                  "0": "12352.0",
                  "1": "517853.7742",
                  "2": "95",
                  "3": "29139060000"
                },
                {
                  "0": "12352.0",
                  "1": "517853.7742",
                  "2": "95",
                  "3": "29139060000"
                },
                {
                  "0": "12352.0",
                  "1": "517853.7742",
                  "2": "95",
                  "3": "29139060000"
                },
                {
                  "0": "12352.0",
                  "1": "517853.7742",
                  "2": "95",
                  "3": "29139060000"
                },
                {
                  "0": "12352.0",
                  "1": "517853.7742",
                  "2": "95",
                  "3": "29139060000"
                },
                {
                  "0": "12352.0",
                  "1": "517853.7742",
                  "2": "95",
                  "3": "29139060000"
                },
                {
                  "0": "12352.0",
                  "1": "517853.7742",
                  "2": "95",
                  "3": "29139060000"
                },
                {
                  "0": "12352.0",
                  "1": "517853.7742",
                  "2": "95",
                  "3": "29139060000"
                },
                {
                  "0": "12352.0",
                  "1": "517853.7742",
                  "2": "95",
                  "3": "29139060000"
                },
                {
                  "0": "12352.0",
                  "1": "517853.7742",
                  "2": "95",
                  "3": "29139060000"
                },
                {
                  "0": "12352.0",
                  "1": "517853.7742",
                  "2": "95",
                  "3": "29139060000"
                },
                {
                  "0": "12352.0",
                  "1": "517853.7742",
                  "2": "95",
                  "3": "29139060000"
                },
                {
                  "0": "12352.0",
                  "1": "517853.7742",
                  "2": "95",
                  "3": "29139060000"
                },
                {
                  "0": "12352.0",
                  "1": "517853.7742",
                  "2": "95",
                  "3": "29139060000"
                },
                {
                  "0": "12352.0",
                  "1": "517853.7742",
                  "2": "95",
                  "3": "29139060000"
                },
                {
                  "0": "12352.0",
                  "1": "517853.7742",
                  "2": "95",
                  "3": "29139060000"
                },
                {
                  "0": "12352.0",
                  "1": "517853.7742",
                  "2": "95",
                  "3": "29139060000"
                },
                {
                  "0": "12352.0",
                  "1": "517853.7742",
                  "2": "95",
                  "3": "29139060000"
                },
                {
                  "0": "12352.0",
                  "1": "517853.7742",
                  "2": "95",
                  "3": "29139060000"
                },
                {
                  "0": "12352.0",
                  "1": "517853.7742",
                  "2": "95",
                  "3": "29139060000"
                },
                {
                  "0": "12352.0",
                  "1": "517853.7742",
                  "2": "95",
                  "3": "29139060000"
                },
                {
                  "0": "12352.0",
                  "1": "517853.7742",
                  "2": "95",
                  "3": "29139060000"
                },
                {
                  "0": "12352.0",
                  "1": "517853.7742",
                  "2": "95",
                  "3": "29139060000"
                },
                {
                  "0": "12352.0",
                  "1": "517853.7742",
                  "2": "95",
                  "3": "29139060000"
                },
                {
                  "0": "12352.0",
                  "1": "517853.7742",
                  "2": "95",
                  "3": "29139060000"
                },
                {
                  "0": "12356.0",
                  "1": "1515.9119",
                  "2": "59",
                  "3": "30327240000"
                },
                {
                  "0": "12356.0",
                  "1": "1515.9119",
                  "2": "59",
                  "3": "30327240000"
                },
                {
                  "0": "12356.0",
                  "1": "1515.9119",
                  "2": "59",
                  "3": "30327240000"
                },
                {
                  "0": "12356.0",
                  "1": "1515.9119",
                  "2": "59",
                  "3": "30327240000"
                },
                {
                  "0": "12356.0",
                  "1": "1515.9119",
                  "2": "59",
                  "3": "30327240000"
                },
                {
                  "0": "12356.0",
                  "1": "1515.9119",
                  "2": "59",
                  "3": "30327240000"
                },
                {
                  "0": "12356.0",
                  "1": "1515.9119",
                  "2": "59",
                  "3": "30327240000"
                },
                {
                  "0": "12356.0",
                  "1": "1515.9119",
                  "2": "59",
                  "3": "30327240000"
                },
                {
                  "0": "12356.0",
                  "1": "1515.9119",
                  "2": "59",
                  "3": "30327240000"
                },
                {
                  "0": "12356.0",
                  "1": "1515.9119",
                  "2": "59",
                  "3": "30327240000"
                },
                {
                  "0": "12356.0",
                  "1": "1515.9119",
                  "2": "59",
                  "3": "30327240000"
                },
                {
                  "0": "12356.0",
                  "1": "1515.9119",
                  "2": "59",
                  "3": "30327240000"
                },
                {
                  "0": "12356.0",
                  "1": "1515.9119",
                  "2": "59",
                  "3": "30327240000"
                },
                {
                  "0": "12356.0",
                  "1": "1515.9119",
                  "2": "59",
                  "3": "30327240000"
                },
                {
                  "0": "12356.0",
                  "1": "1515.9119",
                  "2": "59",
                  "3": "30327240000"
                },
                {
                  "0": "12356.0",
                  "1": "1515.9119",
                  "2": "59",
                  "3": "30327240000"
                },
                {
                  "0": "12356.0",
                  "1": "1515.9119",
                  "2": "59",
                  "3": "30327240000"
                },
                {
                  "0": "12356.0",
                  "1": "1515.9119",
                  "2": "59",
                  "3": "30327240000"
                },
                {
                  "0": "12356.0",
                  "1": "1515.9119",
                  "2": "59",
                  "3": "30327240000"
                },
                {
                  "0": "12356.0",
                  "1": "1515.9119",
                  "2": "59",
                  "3": "30327240000"
                },
                {
                  "0": "12356.0",
                  "1": "1515.9119",
                  "2": "59",
                  "3": "30327240000"
                },
                {
                  "0": "12356.0",
                  "1": "1515.9119",
                  "2": "59",
                  "3": "30327240000"
                },
                {
                  "0": "12356.0",
                  "1": "1515.9119",
                  "2": "59",
                  "3": "30327240000"
                },
                {
                  "0": "12356.0",
                  "1": "1515.9119",
                  "2": "59",
                  "3": "30327240000"
                },
                {
                  "0": "12356.0",
                  "1": "1515.9119",
                  "2": "59",
                  "3": "30327240000"
                },
                {
                  "0": "12356.0",
                  "1": "1515.9119",
                  "2": "59",
                  "3": "30327240000"
                },
                {
                  "0": "12356.0",
                  "1": "1515.9119",
                  "2": "59",
                  "3": "30327240000"
                },
                {
                  "0": "12356.0",
                  "1": "1515.9119",
                  "2": "59",
                  "3": "30327240000"
                },
                {
                  "0": "12356.0",
                  "1": "1515.9119",
                  "2": "59",
                  "3": "30327240000"
                },
                {
                  "0": "12356.0",
                  "1": "1515.9119",
                  "2": "59",
                  "3": "30327240000"
                },
                {
                  "0": "12356.0",
                  "1": "1515.9119",
                  "2": "59",
                  "3": "30327240000"
                },
                {
                  "0": "12356.0",
                  "1": "1515.9119",
                  "2": "59",
                  "3": "30327240000"
                },
                {
                  "0": "12356.0",
                  "1": "1515.9119",
                  "2": "59",
                  "3": "30327240000"
                },
                {
                  "0": "12356.0",
                  "1": "1515.9119",
                  "2": "59",
                  "3": "30327240000"
                },
                {
                  "0": "12356.0",
                  "1": "1515.9119",
                  "2": "59",
                  "3": "30327240000"
                },
                {
                  "0": "12356.0",
                  "1": "1515.9119",
                  "2": "59",
                  "3": "30327240000"
                },
                {
                  "0": "12356.0",
                  "1": "1515.9119",
                  "2": "59",
                  "3": "30327240000"
                },
                {
                  "0": "12356.0",
                  "1": "1515.9119",
                  "2": "59",
                  "3": "30327240000"
                },
                {
                  "0": "12356.0",
                  "1": "1515.9119",
                  "2": "59",
                  "3": "30327240000"
                },
                {
                  "0": "12356.0",
                  "1": "1515.9119",
                  "2": "59",
                  "3": "30327240000"
                },
                {
                  "0": "12356.0",
                  "1": "1515.9119",
                  "2": "59",
                  "3": "30327240000"
                },
                {
                  "0": "12356.0",
                  "1": "1515.9119",
                  "2": "59",
                  "3": "30327240000"
                },
                {
                  "0": "12356.0",
                  "1": "1515.9119",
                  "2": "59",
                  "3": "30327240000"
                },
                {
                  "0": "12356.0",
                  "1": "1515.9119",
                  "2": "59",
                  "3": "30327240000"
                },
                {
                  "0": "12356.0",
                  "1": "1515.9119",
                  "2": "59",
                  "3": "30327240000"
                },
                {
                  "0": "12356.0",
                  "1": "1515.9119",
                  "2": "59",
                  "3": "30327240000"
                },
                {
                  "0": "12356.0",
                  "1": "1515.9119",
                  "2": "59",
                  "3": "30327240000"
                },
                {
                  "0": "12356.0",
                  "1": "1515.9119",
                  "2": "59",
                  "3": "30327240000"
                },
                {
                  "0": "12356.0",
                  "1": "1515.9119",
                  "2": "59",
                  "3": "30327240000"
                },
                {
                  "0": "12356.0",
                  "1": "1515.9119",
                  "2": "59",
                  "3": "30327240000"
                },
                {
                  "0": "12356.0",
                  "1": "1515.9119",
                  "2": "59",
                  "3": "30327240000"
                },
                {
                  "0": "12356.0",
                  "1": "1515.9119",
                  "2": "59",
                  "3": "30327240000"
                },
                {
                  "0": "12356.0",
                  "1": "1515.9119",
                  "2": "59",
                  "3": "30327240000"
                },
                {
                  "0": "12356.0",
                  "1": "1515.9119",
                  "2": "59",
                  "3": "30327240000"
                },
                {
                  "0": "12356.0",
                  "1": "1515.9119",
                  "2": "59",
                  "3": "30327240000"
                },
                {
                  "0": "12356.0",
                  "1": "1515.9119",
                  "2": "59",
                  "3": "30327240000"
                },
                {
                  "0": "12356.0",
                  "1": "1515.9119",
                  "2": "59",
                  "3": "30327240000"
                },
                {
                  "0": "12356.0",
                  "1": "1515.9119",
                  "2": "59",
                  "3": "30327240000"
                },
                {
                  "0": "12356.0",
                  "1": "1515.9119",
                  "2": "59",
                  "3": "30327240000"
                },
                {
                  "0": "12358.0",
                  "1": "3674.4969",
                  "2": "19",
                  "3": "32148000000"
                },
                {
                  "0": "12358.0",
                  "1": "3674.4969",
                  "2": "19",
                  "3": "32148000000"
                },
                {
                  "0": "12358.0",
                  "1": "3674.4969",
                  "2": "19",
                  "3": "32148000000"
                },
                {
                  "0": "12358.0",
                  "1": "3674.4969",
                  "2": "19",
                  "3": "32148000000"
                },
                {
                  "0": "12358.0",
                  "1": "3674.4969",
                  "2": "19",
                  "3": "32148000000"
                },
                {
                  "0": "12358.0",
                  "1": "3674.4969",
                  "2": "19",
                  "3": "32148000000"
                },
                {
                  "0": "12358.0",
                  "1": "3674.4969",
                  "2": "19",
                  "3": "32148000000"
                },
                {
                  "0": "12358.0",
                  "1": "3674.4969",
                  "2": "19",
                  "3": "32148000000"
                },
                {
                  "0": "12358.0",
                  "1": "3674.4969",
                  "2": "19",
                  "3": "32148000000"
                },
                {
                  "0": "12358.0",
                  "1": "3674.4969",
                  "2": "19",
                  "3": "32148000000"
                },
                {
                  "0": "12358.0",
                  "1": "3674.4969",
                  "2": "19",
                  "3": "32148000000"
                },
                {
                  "0": "12358.0",
                  "1": "3674.4969",
                  "2": "19",
                  "3": "32148000000"
                },
                {
                  "0": "12358.0",
                  "1": "3674.4969",
                  "2": "19",
                  "3": "32148000000"
                },
                {
                  "0": "12358.0",
                  "1": "3674.4969",
                  "2": "19",
                  "3": "32148000000"
                },
                {
                  "0": "12358.0",
                  "1": "3674.4969",
                  "2": "19",
                  "3": "32148000000"
                },
                {
                  "0": "12358.0",
                  "1": "3674.4969",
                  "2": "19",
                  "3": "32148000000"
                },
                {
                  "0": "12358.0",
                  "1": "3674.4969",
                  "2": "19",
                  "3": "32148000000"
                },
                {
                  "0": "12358.0",
                  "1": "3674.4969",
                  "2": "19",
                  "3": "32148000000"
                },
                {
                  "0": "12358.0",
                  "1": "3674.4969",
                  "2": "19",
                  "3": "32148000000"
                },
                {
                  "0": "12360.0",
                  "1": "6868.9647",
                  "2": "129",
                  "3": "27759360000"
                },
                {
                  "0": "12360.0",
                  "1": "6868.9647",
                  "2": "129",
                  "3": "27759360000"
                },
                {
                  "0": "12360.0",
                  "1": "6868.9647",
                  "2": "129",
                  "3": "27759360000"
                },
                {
                  "0": "12360.0",
                  "1": "6868.9647",
                  "2": "129",
                  "3": "27759360000"
                },
                {
                  "0": "12360.0",
                  "1": "6868.9647",
                  "2": "129",
                  "3": "27759360000"
                },
                {
                  "0": "12360.0",
                  "1": "6868.9647",
                  "2": "129",
                  "3": "27759360000"
                },
                {
                  "0": "12360.0",
                  "1": "6868.9647",
                  "2": "129",
                  "3": "27759360000"
                },
                {
                  "0": "12360.0",
                  "1": "6868.9647",
                  "2": "129",
                  "3": "27759360000"
                },
                {
                  "0": "12360.0",
                  "1": "6868.9647",
                  "2": "129",
                  "3": "27759360000"
                },
                {
                  "0": "12360.0",
                  "1": "6868.9647",
                  "2": "129",
                  "3": "27759360000"
                },
                {
                  "0": "12360.0",
                  "1": "6868.9647",
                  "2": "129",
                  "3": "27759360000"
                },
                {
                  "0": "12360.0",
                  "1": "6868.9647",
                  "2": "129",
                  "3": "27759360000"
                },
                {
                  "0": "12360.0",
                  "1": "6868.9647",
                  "2": "129",
                  "3": "27759360000"
                },
                {
                  "0": "12360.0",
                  "1": "6868.9647",
                  "2": "129",
                  "3": "27759360000"
                },
                {
                  "0": "12360.0",
                  "1": "6868.9647",
                  "2": "129",
                  "3": "27759360000"
                },
                {
                  "0": "12360.0",
                  "1": "6868.9647",
                  "2": "129",
                  "3": "27759360000"
                },
                {
                  "0": "12360.0",
                  "1": "6868.9647",
                  "2": "129",
                  "3": "27759360000"
                },
                {
                  "0": "12360.0",
                  "1": "6868.9647",
                  "2": "129",
                  "3": "27759360000"
                },
                {
                  "0": "12360.0",
                  "1": "6868.9647",
                  "2": "129",
                  "3": "27759360000"
                },
                {
                  "0": "12360.0",
                  "1": "6868.9647",
                  "2": "129",
                  "3": "27759360000"
                },
                {
                  "0": "12360.0",
                  "1": "6868.9647",
                  "2": "129",
                  "3": "27759360000"
                },
                {
                  "0": "12360.0",
                  "1": "6868.9647",
                  "2": "129",
                  "3": "27759360000"
                },
                {
                  "0": "12360.0",
                  "1": "6868.9647",
                  "2": "129",
                  "3": "27759360000"
                },
                {
                  "0": "12360.0",
                  "1": "6868.9647",
                  "2": "129",
                  "3": "27759360000"
                },
                {
                  "0": "12360.0",
                  "1": "6868.9647",
                  "2": "129",
                  "3": "27759360000"
                },
                {
                  "0": "12360.0",
                  "1": "6868.9647",
                  "2": "129",
                  "3": "27759360000"
                },
                {
                  "0": "12360.0",
                  "1": "6868.9647",
                  "2": "129",
                  "3": "27759360000"
                },
                {
                  "0": "12360.0",
                  "1": "6868.9647",
                  "2": "129",
                  "3": "27759360000"
                },
                {
                  "0": "12360.0",
                  "1": "6868.9647",
                  "2": "129",
                  "3": "27759360000"
                },
                {
                  "0": "12360.0",
                  "1": "6868.9647",
                  "2": "129",
                  "3": "27759360000"
                },
                {
                  "0": "12360.0",
                  "1": "6868.9647",
                  "2": "129",
                  "3": "27759360000"
                },
                {
                  "0": "12360.0",
                  "1": "6868.9647",
                  "2": "129",
                  "3": "27759360000"
                },
                {
                  "0": "12360.0",
                  "1": "6868.9647",
                  "2": "129",
                  "3": "27759360000"
                },
                {
                  "0": "12360.0",
                  "1": "6868.9647",
                  "2": "129",
                  "3": "27759360000"
                },
                {
                  "0": "12360.0",
                  "1": "6868.9647",
                  "2": "129",
                  "3": "27759360000"
                },
                {
                  "0": "12360.0",
                  "1": "6868.9647",
                  "2": "129",
                  "3": "27759360000"
                },
                {
                  "0": "12360.0",
                  "1": "6868.9647",
                  "2": "129",
                  "3": "27759360000"
                },
                {
                  "0": "12360.0",
                  "1": "6868.9647",
                  "2": "129",
                  "3": "27759360000"
                },
                {
                  "0": "12360.0",
                  "1": "6868.9647",
                  "2": "129",
                  "3": "27759360000"
                },
                {
                  "0": "12360.0",
                  "1": "6868.9647",
                  "2": "129",
                  "3": "27759360000"
                },
                {
                  "0": "12360.0",
                  "1": "6868.9647",
                  "2": "129",
                  "3": "27759360000"
                },
                {
                  "0": "12360.0",
                  "1": "6868.9647",
                  "2": "129",
                  "3": "27759360000"
                },
                {
                  "0": "12360.0",
                  "1": "6868.9647",
                  "2": "129",
                  "3": "27759360000"
                },
                {
                  "0": "12360.0",
                  "1": "6868.9647",
                  "2": "129",
                  "3": "27759360000"
                },
                {
                  "0": "12360.0",
                  "1": "6868.9647",
                  "2": "129",
                  "3": "27759360000"
                },
                {
                  "0": "12360.0",
                  "1": "6868.9647",
                  "2": "129",
                  "3": "27759360000"
                },
                {
                  "0": "12360.0",
                  "1": "6868.9647",
                  "2": "129",
                  "3": "27759360000"
                },
                {
                  "0": "12360.0",
                  "1": "6868.9647",
                  "2": "129",
                  "3": "27759360000"
                },
                {
                  "0": "12360.0",
                  "1": "6868.9647",
                  "2": "129",
                  "3": "27759360000"
                },
                {
                  "0": "12360.0",
                  "1": "6868.9647",
                  "2": "129",
                  "3": "27759360000"
                },
                {
                  "0": "12360.0",
                  "1": "6868.9647",
                  "2": "129",
                  "3": "27759360000"
                },
                {
                  "0": "12360.0",
                  "1": "6868.9647",
                  "2": "129",
                  "3": "27759360000"
                },
                {
                  "0": "12360.0",
                  "1": "6868.9647",
                  "2": "129",
                  "3": "27759360000"
                },
                {
                  "0": "12360.0",
                  "1": "6868.9647",
                  "2": "129",
                  "3": "27759360000"
                },
                {
                  "0": "12360.0",
                  "1": "6868.9647",
                  "2": "129",
                  "3": "27759360000"
                },
                {
                  "0": "12360.0",
                  "1": "6868.9647",
                  "2": "129",
                  "3": "27759360000"
                },
                {
                  "0": "12360.0",
                  "1": "6868.9647",
                  "2": "129",
                  "3": "27759360000"
                },
                {
                  "0": "12360.0",
                  "1": "6868.9647",
                  "2": "129",
                  "3": "27759360000"
                },
                {
                  "0": "12360.0",
                  "1": "6868.9647",
                  "2": "129",
                  "3": "27759360000"
                },
                {
                  "0": "12360.0",
                  "1": "6868.9647",
                  "2": "129",
                  "3": "27759360000"
                },
                {
                  "0": "12360.0",
                  "1": "6868.9647",
                  "2": "129",
                  "3": "27759360000"
                },
                {
                  "0": "12360.0",
                  "1": "6868.9647",
                  "2": "129",
                  "3": "27759360000"
                },
                {
                  "0": "12360.0",
                  "1": "6868.9647",
                  "2": "129",
                  "3": "27759360000"
                },
                {
                  "0": "12360.0",
                  "1": "6868.9647",
                  "2": "129",
                  "3": "27759360000"
                },
                {
                  "0": "12360.0",
                  "1": "6868.9647",
                  "2": "129",
                  "3": "27759360000"
                },
                {
                  "0": "12360.0",
                  "1": "6868.9647",
                  "2": "129",
                  "3": "27759360000"
                },
                {
                  "0": "12360.0",
                  "1": "6868.9647",
                  "2": "129",
                  "3": "27759360000"
                },
                {
                  "0": "12360.0",
                  "1": "6868.9647",
                  "2": "129",
                  "3": "27759360000"
                },
                {
                  "0": "12360.0",
                  "1": "6868.9647",
                  "2": "129",
                  "3": "27759360000"
                },
                {
                  "0": "12360.0",
                  "1": "6868.9647",
                  "2": "129",
                  "3": "27759360000"
                },
                {
                  "0": "12360.0",
                  "1": "6868.9647",
                  "2": "129",
                  "3": "27759360000"
                },
                {
                  "0": "12360.0",
                  "1": "6868.9647",
                  "2": "129",
                  "3": "27759360000"
                },
                {
                  "0": "12360.0",
                  "1": "6868.9647",
                  "2": "129",
                  "3": "27759360000"
                },
                {
                  "0": "12360.0",
                  "1": "6868.9647",
                  "2": "129",
                  "3": "27759360000"
                },
                {
                  "0": "12360.0",
                  "1": "6868.9647",
                  "2": "129",
                  "3": "27759360000"
                },
                {
                  "0": "12360.0",
                  "1": "6868.9647",
                  "2": "129",
                  "3": "27759360000"
                },
                {
                  "0": "12360.0",
                  "1": "6868.9647",
                  "2": "129",
                  "3": "27759360000"
                },
                {
                  "0": "12360.0",
                  "1": "6868.9647",
                  "2": "129",
                  "3": "27759360000"
                },
                {
                  "0": "12360.0",
                  "1": "6868.9647",
                  "2": "129",
                  "3": "27759360000"
                },
                {
                  "0": "12360.0",
                  "1": "6868.9647",
                  "2": "129",
                  "3": "27759360000"
                },
                {
                  "0": "12360.0",
                  "1": "6868.9647",
                  "2": "129",
                  "3": "27759360000"
                },
                {
                  "0": "12360.0",
                  "1": "6868.9647",
                  "2": "129",
                  "3": "27759360000"
                },
                {
                  "0": "12360.0",
                  "1": "6868.9647",
                  "2": "129",
                  "3": "27759360000"
                },
                {
                  "0": "12360.0",
                  "1": "6868.9647",
                  "2": "129",
                  "3": "27759360000"
                },
                {
                  "0": "12360.0",
                  "1": "6868.9647",
                  "2": "129",
                  "3": "27759360000"
                },
                {
                  "0": "12360.0",
                  "1": "6868.9647",
                  "2": "129",
                  "3": "27759360000"
                },
                {
                  "0": "12360.0",
                  "1": "6868.9647",
                  "2": "129",
                  "3": "27759360000"
                },
                {
                  "0": "12360.0",
                  "1": "6868.9647",
                  "2": "129",
                  "3": "27759360000"
                },
                {
                  "0": "12360.0",
                  "1": "6868.9647",
                  "2": "129",
                  "3": "27759360000"
                },
                {
                  "0": "12360.0",
                  "1": "6868.9647",
                  "2": "129",
                  "3": "27759360000"
                },
                {
                  "0": "12360.0",
                  "1": "6868.9647",
                  "2": "129",
                  "3": "27759360000"
                },
                {
                  "0": "12360.0",
                  "1": "6868.9647",
                  "2": "129",
                  "3": "27759360000"
                },
                {
                  "0": "12360.0",
                  "1": "6868.9647",
                  "2": "129",
                  "3": "27759360000"
                },
                {
                  "0": "12360.0",
                  "1": "6868.9647",
                  "2": "129",
                  "3": "27759360000"
                },
                {
                  "0": "12360.0",
                  "1": "6868.9647",
                  "2": "129",
                  "3": "27759360000"
                },
                {
                  "0": "12360.0",
                  "1": "6868.9647",
                  "2": "129",
                  "3": "27759360000"
                },
                {
                  "0": "12360.0",
                  "1": "6868.9647",
                  "2": "129",
                  "3": "27759360000"
                },
                {
                  "0": "12360.0",
                  "1": "6868.9647",
                  "2": "129",
                  "3": "27759360000"
                },
                {
                  "0": "12360.0",
                  "1": "6868.9647",
                  "2": "129",
                  "3": "27759360000"
                },
                {
                  "0": "12360.0",
                  "1": "6868.9647",
                  "2": "129",
                  "3": "27759360000"
                },
                {
                  "0": "12360.0",
                  "1": "6868.9647",
                  "2": "129",
                  "3": "27759360000"
                },
                {
                  "0": "12360.0",
                  "1": "6868.9647",
                  "2": "129",
                  "3": "27759360000"
                },
                {
                  "0": "12360.0",
                  "1": "6868.9647",
                  "2": "129",
                  "3": "27759360000"
                },
                {
                  "0": "12360.0",
                  "1": "6868.9647",
                  "2": "129",
                  "3": "27759360000"
                },
                {
                  "0": "12360.0",
                  "1": "6868.9647",
                  "2": "129",
                  "3": "27759360000"
                },
                {
                  "0": "12360.0",
                  "1": "6868.9647",
                  "2": "129",
                  "3": "27759360000"
                },
                {
                  "0": "12360.0",
                  "1": "6868.9647",
                  "2": "129",
                  "3": "27759360000"
                },
                {
                  "0": "12360.0",
                  "1": "6868.9647",
                  "2": "129",
                  "3": "27759360000"
                },
                {
                  "0": "12360.0",
                  "1": "6868.9647",
                  "2": "129",
                  "3": "27759360000"
                },
                {
                  "0": "12360.0",
                  "1": "6868.9647",
                  "2": "129",
                  "3": "27759360000"
                },
                {
                  "0": "12360.0",
                  "1": "6868.9647",
                  "2": "129",
                  "3": "27759360000"
                },
                {
                  "0": "12360.0",
                  "1": "6868.9647",
                  "2": "129",
                  "3": "27759360000"
                },
                {
                  "0": "12360.0",
                  "1": "6868.9647",
                  "2": "129",
                  "3": "27759360000"
                },
                {
                  "0": "12360.0",
                  "1": "6868.9647",
                  "2": "129",
                  "3": "27759360000"
                },
                {
                  "0": "12360.0",
                  "1": "6868.9647",
                  "2": "129",
                  "3": "27759360000"
                },
                {
                  "0": "12360.0",
                  "1": "6868.9647",
                  "2": "129",
                  "3": "27759360000"
                },
                {
                  "0": "12360.0",
                  "1": "6868.9647",
                  "2": "129",
                  "3": "27759360000"
                },
                {
                  "0": "12360.0",
                  "1": "6868.9647",
                  "2": "129",
                  "3": "27759360000"
                },
                {
                  "0": "12360.0",
                  "1": "6868.9647",
                  "2": "129",
                  "3": "27759360000"
                },
                {
                  "0": "12360.0",
                  "1": "6868.9647",
                  "2": "129",
                  "3": "27759360000"
                },
                {
                  "0": "12360.0",
                  "1": "6868.9647",
                  "2": "129",
                  "3": "27759360000"
                },
                {
                  "0": "12360.0",
                  "1": "6868.9647",
                  "2": "129",
                  "3": "27759360000"
                },
                {
                  "0": "12360.0",
                  "1": "6868.9647",
                  "2": "129",
                  "3": "27759360000"
                },
                {
                  "0": "12360.0",
                  "1": "6868.9647",
                  "2": "129",
                  "3": "27759360000"
                },
                {
                  "0": "12360.0",
                  "1": "6868.9647",
                  "2": "129",
                  "3": "27759360000"
                },
                {
                  "0": "12360.0",
                  "1": "6868.9647",
                  "2": "129",
                  "3": "27759360000"
                },
                {
                  "0": "12360.0",
                  "1": "6868.9647",
                  "2": "129",
                  "3": "27759360000"
                },
                {
                  "0": "12360.0",
                  "1": "6868.9647",
                  "2": "129",
                  "3": "27759360000"
                },
                {
                  "0": "12360.0",
                  "1": "6868.9647",
                  "2": "129",
                  "3": "27759360000"
                },
                {
                  "0": "12362.0",
                  "1": "8830.2953",
                  "2": "274",
                  "3": "31994040000"
                },
                {
                  "0": "12362.0",
                  "1": "8830.2953",
                  "2": "274",
                  "3": "31994040000"
                },
                {
                  "0": "12362.0",
                  "1": "8830.2953",
                  "2": "274",
                  "3": "31994040000"
                },
                {
                  "0": "12362.0",
                  "1": "8830.2953",
                  "2": "274",
                  "3": "31994040000"
                },
                {
                  "0": "12362.0",
                  "1": "8830.2953",
                  "2": "274",
                  "3": "31994040000"
                },
                {
                  "0": "12362.0",
                  "1": "8830.2953",
                  "2": "274",
                  "3": "31994040000"
                },
                {
                  "0": "12362.0",
                  "1": "8830.2953",
                  "2": "274",
                  "3": "31994040000"
                },
                {
                  "0": "12362.0",
                  "1": "8830.2953",
                  "2": "274",
                  "3": "31994040000"
                },
                {
                  "0": "12362.0",
                  "1": "8830.2953",
                  "2": "274",
                  "3": "31994040000"
                },
                {
                  "0": "12362.0",
                  "1": "8830.2953",
                  "2": "274",
                  "3": "31994040000"
                },
                {
                  "0": "12362.0",
                  "1": "8830.2953",
                  "2": "274",
                  "3": "31994040000"
                },
                {
                  "0": "12362.0",
                  "1": "8830.2953",
                  "2": "274",
                  "3": "31994040000"
                },
                {
                  "0": "12362.0",
                  "1": "8830.2953",
                  "2": "274",
                  "3": "31994040000"
                },
                {
                  "0": "12362.0",
                  "1": "8830.2953",
                  "2": "274",
                  "3": "31994040000"
                },
                {
                  "0": "12362.0",
                  "1": "8830.2953",
                  "2": "274",
                  "3": "31994040000"
                },
                {
                  "0": "12362.0",
                  "1": "8830.2953",
                  "2": "274",
                  "3": "31994040000"
                },
                {
                  "0": "12362.0",
                  "1": "8830.2953",
                  "2": "274",
                  "3": "31994040000"
                },
                {
                  "0": "12362.0",
                  "1": "8830.2953",
                  "2": "274",
                  "3": "31994040000"
                },
                {
                  "0": "12362.0",
                  "1": "8830.2953",
                  "2": "274",
                  "3": "31994040000"
                },
                {
                  "0": "12362.0",
                  "1": "8830.2953",
                  "2": "274",
                  "3": "31994040000"
                },
                {
                  "0": "12362.0",
                  "1": "8830.2953",
                  "2": "274",
                  "3": "31994040000"
                },
                {
                  "0": "12362.0",
                  "1": "8830.2953",
                  "2": "274",
                  "3": "31994040000"
                },
                {
                  "0": "12362.0",
                  "1": "8830.2953",
                  "2": "274",
                  "3": "31994040000"
                },
                {
                  "0": "12362.0",
                  "1": "8830.2953",
                  "2": "274",
                  "3": "31994040000"
                },
                {
                  "0": "12362.0",
                  "1": "8830.2953",
                  "2": "274",
                  "3": "31994040000"
                },
                {
                  "0": "12362.0",
                  "1": "8830.2953",
                  "2": "274",
                  "3": "31994040000"
                },
                {
                  "0": "12362.0",
                  "1": "8830.2953",
                  "2": "274",
                  "3": "31994040000"
                },
                {
                  "0": "12362.0",
                  "1": "8830.2953",
                  "2": "274",
                  "3": "31994040000"
                },
                {
                  "0": "12362.0",
                  "1": "8830.2953",
                  "2": "274",
                  "3": "31994040000"
                },
                {
                  "0": "12362.0",
                  "1": "8830.2953",
                  "2": "274",
                  "3": "31994040000"
                },
                {
                  "0": "12362.0",
                  "1": "8830.2953",
                  "2": "274",
                  "3": "31994040000"
                },
                {
                  "0": "12362.0",
                  "1": "8830.2953",
                  "2": "274",
                  "3": "31994040000"
                },
                {
                  "0": "12362.0",
                  "1": "8830.2953",
                  "2": "274",
                  "3": "31994040000"
                },
                {
                  "0": "12362.0",
                  "1": "8830.2953",
                  "2": "274",
                  "3": "31994040000"
                },
                {
                  "0": "12362.0",
                  "1": "8830.2953",
                  "2": "274",
                  "3": "31994040000"
                },
                {
                  "0": "12362.0",
                  "1": "8830.2953",
                  "2": "274",
                  "3": "31994040000"
                },
                {
                  "0": "12362.0",
                  "1": "8830.2953",
                  "2": "274",
                  "3": "31994040000"
                },
                {
                  "0": "12362.0",
                  "1": "8830.2953",
                  "2": "274",
                  "3": "31994040000"
                },
                {
                  "0": "12362.0",
                  "1": "8830.2953",
                  "2": "274",
                  "3": "31994040000"
                },
                {
                  "0": "12362.0",
                  "1": "8830.2953",
                  "2": "274",
                  "3": "31994040000"
                },
                {
                  "0": "12362.0",
                  "1": "8830.2953",
                  "2": "274",
                  "3": "31994040000"
                },
                {
                  "0": "12362.0",
                  "1": "8830.2953",
                  "2": "274",
                  "3": "31994040000"
                },
                {
                  "0": "12362.0",
                  "1": "8830.2953",
                  "2": "274",
                  "3": "31994040000"
                },
                {
                  "0": "12362.0",
                  "1": "8830.2953",
                  "2": "274",
                  "3": "31994040000"
                },
                {
                  "0": "12362.0",
                  "1": "8830.2953",
                  "2": "274",
                  "3": "31994040000"
                },
                {
                  "0": "12362.0",
                  "1": "8830.2953",
                  "2": "274",
                  "3": "31994040000"
                },
                {
                  "0": "12362.0",
                  "1": "8830.2953",
                  "2": "274",
                  "3": "31994040000"
                },
                {
                  "0": "12362.0",
                  "1": "8830.2953",
                  "2": "274",
                  "3": "31994040000"
                },
                {
                  "0": "12362.0",
                  "1": "8830.2953",
                  "2": "274",
                  "3": "31994040000"
                },
                {
                  "0": "12362.0",
                  "1": "8830.2953",
                  "2": "274",
                  "3": "31994040000"
                },
                {
                  "0": "12362.0",
                  "1": "8830.2953",
                  "2": "274",
                  "3": "31994040000"
                },
                {
                  "0": "12362.0",
                  "1": "8830.2953",
                  "2": "274",
                  "3": "31994040000"
                },
                {
                  "0": "12362.0",
                  "1": "8830.2953",
                  "2": "274",
                  "3": "31994040000"
                },
                {
                  "0": "12362.0",
                  "1": "8830.2953",
                  "2": "274",
                  "3": "31994040000"
                },
                {
                  "0": "12362.0",
                  "1": "8830.2953",
                  "2": "274",
                  "3": "31994040000"
                },
                {
                  "0": "12362.0",
                  "1": "8830.2953",
                  "2": "274",
                  "3": "31994040000"
                },
                {
                  "0": "12362.0",
                  "1": "8830.2953",
                  "2": "274",
                  "3": "31994040000"
                },
                {
                  "0": "12362.0",
                  "1": "8830.2953",
                  "2": "274",
                  "3": "31994040000"
                },
                {
                  "0": "12362.0",
                  "1": "8830.2953",
                  "2": "274",
                  "3": "31994040000"
                },
                {
                  "0": "12362.0",
                  "1": "8830.2953",
                  "2": "274",
                  "3": "31994040000"
                },
                {
                  "0": "12362.0",
                  "1": "8830.2953",
                  "2": "274",
                  "3": "31994040000"
                },
                {
                  "0": "12362.0",
                  "1": "8830.2953",
                  "2": "274",
                  "3": "31994040000"
                },
                {
                  "0": "12362.0",
                  "1": "8830.2953",
                  "2": "274",
                  "3": "31994040000"
                },
                {
                  "0": "12362.0",
                  "1": "8830.2953",
                  "2": "274",
                  "3": "31994040000"
                },
                {
                  "0": "12362.0",
                  "1": "8830.2953",
                  "2": "274",
                  "3": "31994040000"
                },
                {
                  "0": "12362.0",
                  "1": "8830.2953",
                  "2": "274",
                  "3": "31994040000"
                },
                {
                  "0": "12362.0",
                  "1": "8830.2953",
                  "2": "274",
                  "3": "31994040000"
                },
                {
                  "0": "12362.0",
                  "1": "8830.2953",
                  "2": "274",
                  "3": "31994040000"
                },
                {
                  "0": "12362.0",
                  "1": "8830.2953",
                  "2": "274",
                  "3": "31994040000"
                },
                {
                  "0": "12362.0",
                  "1": "8830.2953",
                  "2": "274",
                  "3": "31994040000"
                },
                {
                  "0": "12362.0",
                  "1": "8830.2953",
                  "2": "274",
                  "3": "31994040000"
                },
                {
                  "0": "12362.0",
                  "1": "8830.2953",
                  "2": "274",
                  "3": "31994040000"
                },
                {
                  "0": "12362.0",
                  "1": "8830.2953",
                  "2": "274",
                  "3": "31994040000"
                },
                {
                  "0": "12362.0",
                  "1": "8830.2953",
                  "2": "274",
                  "3": "31994040000"
                },
                {
                  "0": "12362.0",
                  "1": "8830.2953",
                  "2": "274",
                  "3": "31994040000"
                },
                {
                  "0": "12362.0",
                  "1": "8830.2953",
                  "2": "274",
                  "3": "31994040000"
                },
                {
                  "0": "12362.0",
                  "1": "8830.2953",
                  "2": "274",
                  "3": "31994040000"
                },
                {
                  "0": "12362.0",
                  "1": "8830.2953",
                  "2": "274",
                  "3": "31994040000"
                },
                {
                  "0": "12362.0",
                  "1": "8830.2953",
                  "2": "274",
                  "3": "31994040000"
                },
                {
                  "0": "12362.0",
                  "1": "8830.2953",
                  "2": "274",
                  "3": "31994040000"
                },
                {
                  "0": "12362.0",
                  "1": "8830.2953",
                  "2": "274",
                  "3": "31994040000"
                },
                {
                  "0": "12362.0",
                  "1": "8830.2953",
                  "2": "274",
                  "3": "31994040000"
                },
                {
                  "0": "12362.0",
                  "1": "8830.2953",
                  "2": "274",
                  "3": "31994040000"
                },
                {
                  "0": "12362.0",
                  "1": "8830.2953",
                  "2": "274",
                  "3": "31994040000"
                },
                {
                  "0": "12362.0",
                  "1": "8830.2953",
                  "2": "274",
                  "3": "31994040000"
                },
                {
                  "0": "12362.0",
                  "1": "8830.2953",
                  "2": "274",
                  "3": "31994040000"
                },
                {
                  "0": "12362.0",
                  "1": "8830.2953",
                  "2": "274",
                  "3": "31994040000"
                },
                {
                  "0": "12362.0",
                  "1": "8830.2953",
                  "2": "274",
                  "3": "31994040000"
                },
                {
                  "0": "12362.0",
                  "1": "8830.2953",
                  "2": "274",
                  "3": "31994040000"
                },
                {
                  "0": "12362.0",
                  "1": "8830.2953",
                  "2": "274",
                  "3": "31994040000"
                },
                {
                  "0": "12362.0",
                  "1": "8830.2953",
                  "2": "274",
                  "3": "31994040000"
                },
                {
                  "0": "12362.0",
                  "1": "8830.2953",
                  "2": "274",
                  "3": "31994040000"
                },
                {
                  "0": "12362.0",
                  "1": "8830.2953",
                  "2": "274",
                  "3": "31994040000"
                },
                {
                  "0": "12362.0",
                  "1": "8830.2953",
                  "2": "274",
                  "3": "31994040000"
                },
                {
                  "0": "12362.0",
                  "1": "8830.2953",
                  "2": "274",
                  "3": "31994040000"
                },
                {
                  "0": "12362.0",
                  "1": "8830.2953",
                  "2": "274",
                  "3": "31994040000"
                },
                {
                  "0": "12362.0",
                  "1": "8830.2953",
                  "2": "274",
                  "3": "31994040000"
                },
                {
                  "0": "12362.0",
                  "1": "8830.2953",
                  "2": "274",
                  "3": "31994040000"
                },
                {
                  "0": "12362.0",
                  "1": "8830.2953",
                  "2": "274",
                  "3": "31994040000"
                },
                {
                  "0": "12362.0",
                  "1": "8830.2953",
                  "2": "274",
                  "3": "31994040000"
                },
                {
                  "0": "12362.0",
                  "1": "8830.2953",
                  "2": "274",
                  "3": "31994040000"
                },
                {
                  "0": "12362.0",
                  "1": "8830.2953",
                  "2": "274",
                  "3": "31994040000"
                },
                {
                  "0": "12362.0",
                  "1": "8830.2953",
                  "2": "274",
                  "3": "31994040000"
                },
                {
                  "0": "12362.0",
                  "1": "8830.2953",
                  "2": "274",
                  "3": "31994040000"
                },
                {
                  "0": "12362.0",
                  "1": "8830.2953",
                  "2": "274",
                  "3": "31994040000"
                },
                {
                  "0": "12362.0",
                  "1": "8830.2953",
                  "2": "274",
                  "3": "31994040000"
                },
                {
                  "0": "12362.0",
                  "1": "8830.2953",
                  "2": "274",
                  "3": "31994040000"
                },
                {
                  "0": "12362.0",
                  "1": "8830.2953",
                  "2": "274",
                  "3": "31994040000"
                },
                {
                  "0": "12362.0",
                  "1": "8830.2953",
                  "2": "274",
                  "3": "31994040000"
                },
                {
                  "0": "12362.0",
                  "1": "8830.2953",
                  "2": "274",
                  "3": "31994040000"
                },
                {
                  "0": "12362.0",
                  "1": "8830.2953",
                  "2": "274",
                  "3": "31994040000"
                },
                {
                  "0": "12362.0",
                  "1": "8830.2953",
                  "2": "274",
                  "3": "31994040000"
                },
                {
                  "0": "12362.0",
                  "1": "8830.2953",
                  "2": "274",
                  "3": "31994040000"
                },
                {
                  "0": "12362.0",
                  "1": "8830.2953",
                  "2": "274",
                  "3": "31994040000"
                },
                {
                  "0": "12362.0",
                  "1": "8830.2953",
                  "2": "274",
                  "3": "31994040000"
                },
                {
                  "0": "12362.0",
                  "1": "8830.2953",
                  "2": "274",
                  "3": "31994040000"
                },
                {
                  "0": "12362.0",
                  "1": "8830.2953",
                  "2": "274",
                  "3": "31994040000"
                },
                {
                  "0": "12362.0",
                  "1": "8830.2953",
                  "2": "274",
                  "3": "31994040000"
                },
                {
                  "0": "12362.0",
                  "1": "8830.2953",
                  "2": "274",
                  "3": "31994040000"
                },
                {
                  "0": "12362.0",
                  "1": "8830.2953",
                  "2": "274",
                  "3": "31994040000"
                },
                {
                  "0": "12362.0",
                  "1": "8830.2953",
                  "2": "274",
                  "3": "31994040000"
                },
                {
                  "0": "12362.0",
                  "1": "8830.2953",
                  "2": "274",
                  "3": "31994040000"
                },
                {
                  "0": "12362.0",
                  "1": "8830.2953",
                  "2": "274",
                  "3": "31994040000"
                },
                {
                  "0": "12362.0",
                  "1": "8830.2953",
                  "2": "274",
                  "3": "31994040000"
                },
                {
                  "0": "12362.0",
                  "1": "8830.2953",
                  "2": "274",
                  "3": "31994040000"
                },
                {
                  "0": "12362.0",
                  "1": "8830.2953",
                  "2": "274",
                  "3": "31994040000"
                },
                {
                  "0": "12362.0",
                  "1": "8830.2953",
                  "2": "274",
                  "3": "31994040000"
                },
                {
                  "0": "12362.0",
                  "1": "8830.2953",
                  "2": "274",
                  "3": "31994040000"
                },
                {
                  "0": "12362.0",
                  "1": "8830.2953",
                  "2": "274",
                  "3": "31994040000"
                },
                {
                  "0": "12362.0",
                  "1": "8830.2953",
                  "2": "274",
                  "3": "31994040000"
                },
                {
                  "0": "12362.0",
                  "1": "8830.2953",
                  "2": "274",
                  "3": "31994040000"
                },
                {
                  "0": "12362.0",
                  "1": "8830.2953",
                  "2": "274",
                  "3": "31994040000"
                },
                {
                  "0": "12362.0",
                  "1": "8830.2953",
                  "2": "274",
                  "3": "31994040000"
                },
                {
                  "0": "12362.0",
                  "1": "8830.2953",
                  "2": "274",
                  "3": "31994040000"
                },
                {
                  "0": "12362.0",
                  "1": "8830.2953",
                  "2": "274",
                  "3": "31994040000"
                },
                {
                  "0": "12362.0",
                  "1": "8830.2953",
                  "2": "274",
                  "3": "31994040000"
                },
                {
                  "0": "12362.0",
                  "1": "8830.2953",
                  "2": "274",
                  "3": "31994040000"
                },
                {
                  "0": "12362.0",
                  "1": "8830.2953",
                  "2": "274",
                  "3": "31994040000"
                },
                {
                  "0": "12362.0",
                  "1": "8830.2953",
                  "2": "274",
                  "3": "31994040000"
                },
                {
                  "0": "12362.0",
                  "1": "8830.2953",
                  "2": "274",
                  "3": "31994040000"
                },
                {
                  "0": "12362.0",
                  "1": "8830.2953",
                  "2": "274",
                  "3": "31994040000"
                },
                {
                  "0": "12362.0",
                  "1": "8830.2953",
                  "2": "274",
                  "3": "31994040000"
                },
                {
                  "0": "12362.0",
                  "1": "8830.2953",
                  "2": "274",
                  "3": "31994040000"
                },
                {
                  "0": "12362.0",
                  "1": "8830.2953",
                  "2": "274",
                  "3": "31994040000"
                },
                {
                  "0": "12362.0",
                  "1": "8830.2953",
                  "2": "274",
                  "3": "31994040000"
                },
                {
                  "0": "12362.0",
                  "1": "8830.2953",
                  "2": "274",
                  "3": "31994040000"
                },
                {
                  "0": "12362.0",
                  "1": "8830.2953",
                  "2": "274",
                  "3": "31994040000"
                },
                {
                  "0": "12362.0",
                  "1": "8830.2953",
                  "2": "274",
                  "3": "31994040000"
                },
                {
                  "0": "12362.0",
                  "1": "8830.2953",
                  "2": "274",
                  "3": "31994040000"
                },
                {
                  "0": "12362.0",
                  "1": "8830.2953",
                  "2": "274",
                  "3": "31994040000"
                },
                {
                  "0": "12362.0",
                  "1": "8830.2953",
                  "2": "274",
                  "3": "31994040000"
                },
                {
                  "0": "12362.0",
                  "1": "8830.2953",
                  "2": "274",
                  "3": "31994040000"
                },
                {
                  "0": "12362.0",
                  "1": "8830.2953",
                  "2": "274",
                  "3": "31994040000"
                },
                {
                  "0": "12362.0",
                  "1": "8830.2953",
                  "2": "274",
                  "3": "31994040000"
                },
                {
                  "0": "12362.0",
                  "1": "8830.2953",
                  "2": "274",
                  "3": "31994040000"
                },
                {
                  "0": "12362.0",
                  "1": "8830.2953",
                  "2": "274",
                  "3": "31994040000"
                },
                {
                  "0": "12362.0",
                  "1": "8830.2953",
                  "2": "274",
                  "3": "31994040000"
                },
                {
                  "0": "12362.0",
                  "1": "8830.2953",
                  "2": "274",
                  "3": "31994040000"
                },
                {
                  "0": "12362.0",
                  "1": "8830.2953",
                  "2": "274",
                  "3": "31994040000"
                },
                {
                  "0": "12362.0",
                  "1": "8830.2953",
                  "2": "274",
                  "3": "31994040000"
                },
                {
                  "0": "12362.0",
                  "1": "8830.2953",
                  "2": "274",
                  "3": "31994040000"
                },
                {
                  "0": "12362.0",
                  "1": "8830.2953",
                  "2": "274",
                  "3": "31994040000"
                },
                {
                  "0": "12362.0",
                  "1": "8830.2953",
                  "2": "274",
                  "3": "31994040000"
                },
                {
                  "0": "12362.0",
                  "1": "8830.2953",
                  "2": "274",
                  "3": "31994040000"
                },
                {
                  "0": "12362.0",
                  "1": "8830.2953",
                  "2": "274",
                  "3": "31994040000"
                },
                {
                  "0": "12362.0",
                  "1": "8830.2953",
                  "2": "274",
                  "3": "31994040000"
                },
                {
                  "0": "12362.0",
                  "1": "8830.2953",
                  "2": "274",
                  "3": "31994040000"
                },
                {
                  "0": "12362.0",
                  "1": "8830.2953",
                  "2": "274",
                  "3": "31994040000"
                },
                {
                  "0": "12362.0",
                  "1": "8830.2953",
                  "2": "274",
                  "3": "31994040000"
                },
                {
                  "0": "12362.0",
                  "1": "8830.2953",
                  "2": "274",
                  "3": "31994040000"
                },
                {
                  "0": "12362.0",
                  "1": "8830.2953",
                  "2": "274",
                  "3": "31994040000"
                },
                {
                  "0": "12362.0",
                  "1": "8830.2953",
                  "2": "274",
                  "3": "31994040000"
                },
                {
                  "0": "12362.0",
                  "1": "8830.2953",
                  "2": "274",
                  "3": "31994040000"
                },
                {
                  "0": "12362.0",
                  "1": "8830.2953",
                  "2": "274",
                  "3": "31994040000"
                },
                {
                  "0": "12362.0",
                  "1": "8830.2953",
                  "2": "274",
                  "3": "31994040000"
                },
                {
                  "0": "12362.0",
                  "1": "8830.2953",
                  "2": "274",
                  "3": "31994040000"
                },
                {
                  "0": "12362.0",
                  "1": "8830.2953",
                  "2": "274",
                  "3": "31994040000"
                },
                {
                  "0": "12362.0",
                  "1": "8830.2953",
                  "2": "274",
                  "3": "31994040000"
                },
                {
                  "0": "12362.0",
                  "1": "8830.2953",
                  "2": "274",
                  "3": "31994040000"
                },
                {
                  "0": "12362.0",
                  "1": "8830.2953",
                  "2": "274",
                  "3": "31994040000"
                },
                {
                  "0": "12362.0",
                  "1": "8830.2953",
                  "2": "274",
                  "3": "31994040000"
                },
                {
                  "0": "12362.0",
                  "1": "8830.2953",
                  "2": "274",
                  "3": "31994040000"
                },
                {
                  "0": "12362.0",
                  "1": "8830.2953",
                  "2": "274",
                  "3": "31994040000"
                },
                {
                  "0": "12362.0",
                  "1": "8830.2953",
                  "2": "274",
                  "3": "31994040000"
                },
                {
                  "0": "12362.0",
                  "1": "8830.2953",
                  "2": "274",
                  "3": "31994040000"
                },
                {
                  "0": "12362.0",
                  "1": "8830.2953",
                  "2": "274",
                  "3": "31994040000"
                },
                {
                  "0": "12362.0",
                  "1": "8830.2953",
                  "2": "274",
                  "3": "31994040000"
                },
                {
                  "0": "12362.0",
                  "1": "8830.2953",
                  "2": "274",
                  "3": "31994040000"
                },
                {
                  "0": "12362.0",
                  "1": "8830.2953",
                  "2": "274",
                  "3": "31994040000"
                },
                {
                  "0": "12362.0",
                  "1": "8830.2953",
                  "2": "274",
                  "3": "31994040000"
                },
                {
                  "0": "12362.0",
                  "1": "8830.2953",
                  "2": "274",
                  "3": "31994040000"
                },
                {
                  "0": "12362.0",
                  "1": "8830.2953",
                  "2": "274",
                  "3": "31994040000"
                },
                {
                  "0": "12362.0",
                  "1": "8830.2953",
                  "2": "274",
                  "3": "31994040000"
                },
                {
                  "0": "12362.0",
                  "1": "8830.2953",
                  "2": "274",
                  "3": "31994040000"
                },
                {
                  "0": "12362.0",
                  "1": "8830.2953",
                  "2": "274",
                  "3": "31994040000"
                },
                {
                  "0": "12362.0",
                  "1": "8830.2953",
                  "2": "274",
                  "3": "31994040000"
                },
                {
                  "0": "12362.0",
                  "1": "8830.2953",
                  "2": "274",
                  "3": "31994040000"
                },
                {
                  "0": "12362.0",
                  "1": "8830.2953",
                  "2": "274",
                  "3": "31994040000"
                },
                {
                  "0": "12362.0",
                  "1": "8830.2953",
                  "2": "274",
                  "3": "31994040000"
                },
                {
                  "0": "12362.0",
                  "1": "8830.2953",
                  "2": "274",
                  "3": "31994040000"
                },
                {
                  "0": "12362.0",
                  "1": "8830.2953",
                  "2": "274",
                  "3": "31994040000"
                },
                {
                  "0": "12362.0",
                  "1": "8830.2953",
                  "2": "274",
                  "3": "31994040000"
                },
                {
                  "0": "12362.0",
                  "1": "8830.2953",
                  "2": "274",
                  "3": "31994040000"
                },
                {
                  "0": "12362.0",
                  "1": "8830.2953",
                  "2": "274",
                  "3": "31994040000"
                },
                {
                  "0": "12362.0",
                  "1": "8830.2953",
                  "2": "274",
                  "3": "31994040000"
                },
                {
                  "0": "12362.0",
                  "1": "8830.2953",
                  "2": "274",
                  "3": "31994040000"
                },
                {
                  "0": "12362.0",
                  "1": "8830.2953",
                  "2": "274",
                  "3": "31994040000"
                },
                {
                  "0": "12362.0",
                  "1": "8830.2953",
                  "2": "274",
                  "3": "31994040000"
                },
                {
                  "0": "12362.0",
                  "1": "8830.2953",
                  "2": "274",
                  "3": "31994040000"
                },
                {
                  "0": "12362.0",
                  "1": "8830.2953",
                  "2": "274",
                  "3": "31994040000"
                },
                {
                  "0": "12362.0",
                  "1": "8830.2953",
                  "2": "274",
                  "3": "31994040000"
                },
                {
                  "0": "12362.0",
                  "1": "8830.2953",
                  "2": "274",
                  "3": "31994040000"
                },
                {
                  "0": "12362.0",
                  "1": "8830.2953",
                  "2": "274",
                  "3": "31994040000"
                },
                {
                  "0": "12362.0",
                  "1": "8830.2953",
                  "2": "274",
                  "3": "31994040000"
                },
                {
                  "0": "12362.0",
                  "1": "8830.2953",
                  "2": "274",
                  "3": "31994040000"
                },
                {
                  "0": "12362.0",
                  "1": "8830.2953",
                  "2": "274",
                  "3": "31994040000"
                },
                {
                  "0": "12362.0",
                  "1": "8830.2953",
                  "2": "274",
                  "3": "31994040000"
                },
                {
                  "0": "12362.0",
                  "1": "8830.2953",
                  "2": "274",
                  "3": "31994040000"
                },
                {
                  "0": "12362.0",
                  "1": "8830.2953",
                  "2": "274",
                  "3": "31994040000"
                },
                {
                  "0": "12362.0",
                  "1": "8830.2953",
                  "2": "274",
                  "3": "31994040000"
                },
                {
                  "0": "12362.0",
                  "1": "8830.2953",
                  "2": "274",
                  "3": "31994040000"
                },
                {
                  "0": "12362.0",
                  "1": "8830.2953",
                  "2": "274",
                  "3": "31994040000"
                },
                {
                  "0": "12362.0",
                  "1": "8830.2953",
                  "2": "274",
                  "3": "31994040000"
                },
                {
                  "0": "12362.0",
                  "1": "8830.2953",
                  "2": "274",
                  "3": "31994040000"
                },
                {
                  "0": "12362.0",
                  "1": "8830.2953",
                  "2": "274",
                  "3": "31994040000"
                },
                {
                  "0": "12362.0",
                  "1": "8830.2953",
                  "2": "274",
                  "3": "31994040000"
                },
                {
                  "0": "12362.0",
                  "1": "8830.2953",
                  "2": "274",
                  "3": "31994040000"
                },
                {
                  "0": "12362.0",
                  "1": "8830.2953",
                  "2": "274",
                  "3": "31994040000"
                },
                {
                  "0": "12362.0",
                  "1": "8830.2953",
                  "2": "274",
                  "3": "31994040000"
                },
                {
                  "0": "12362.0",
                  "1": "8830.2953",
                  "2": "274",
                  "3": "31994040000"
                },
                {
                  "0": "12362.0",
                  "1": "8830.2953",
                  "2": "274",
                  "3": "31994040000"
                },
                {
                  "0": "12362.0",
                  "1": "8830.2953",
                  "2": "274",
                  "3": "31994040000"
                },
                {
                  "0": "12362.0",
                  "1": "8830.2953",
                  "2": "274",
                  "3": "31994040000"
                },
                {
                  "0": "12362.0",
                  "1": "8830.2953",
                  "2": "274",
                  "3": "31994040000"
                },
                {
                  "0": "12362.0",
                  "1": "8830.2953",
                  "2": "274",
                  "3": "31994040000"
                },
                {
                  "0": "12362.0",
                  "1": "8830.2953",
                  "2": "274",
                  "3": "31994040000"
                },
                {
                  "0": "12362.0",
                  "1": "8830.2953",
                  "2": "274",
                  "3": "31994040000"
                },
                {
                  "0": "12362.0",
                  "1": "8830.2953",
                  "2": "274",
                  "3": "31994040000"
                },
                {
                  "0": "12362.0",
                  "1": "8830.2953",
                  "2": "274",
                  "3": "31994040000"
                },
                {
                  "0": "12362.0",
                  "1": "8830.2953",
                  "2": "274",
                  "3": "31994040000"
                },
                {
                  "0": "12362.0",
                  "1": "8830.2953",
                  "2": "274",
                  "3": "31994040000"
                },
                {
                  "0": "12362.0",
                  "1": "8830.2953",
                  "2": "274",
                  "3": "31994040000"
                },
                {
                  "0": "12362.0",
                  "1": "8830.2953",
                  "2": "274",
                  "3": "31994040000"
                },
                {
                  "0": "12362.0",
                  "1": "8830.2953",
                  "2": "274",
                  "3": "31994040000"
                },
                {
                  "0": "12362.0",
                  "1": "8830.2953",
                  "2": "274",
                  "3": "31994040000"
                },
                {
                  "0": "12362.0",
                  "1": "8830.2953",
                  "2": "274",
                  "3": "31994040000"
                },
                {
                  "0": "12362.0",
                  "1": "8830.2953",
                  "2": "274",
                  "3": "31994040000"
                },
                {
                  "0": "12362.0",
                  "1": "8830.2953",
                  "2": "274",
                  "3": "31994040000"
                },
                {
                  "0": "12362.0",
                  "1": "8830.2953",
                  "2": "274",
                  "3": "31994040000"
                },
                {
                  "0": "12362.0",
                  "1": "8830.2953",
                  "2": "274",
                  "3": "31994040000"
                },
                {
                  "0": "12362.0",
                  "1": "8830.2953",
                  "2": "274",
                  "3": "31994040000"
                },
                {
                  "0": "12362.0",
                  "1": "8830.2953",
                  "2": "274",
                  "3": "31994040000"
                },
                {
                  "0": "12362.0",
                  "1": "8830.2953",
                  "2": "274",
                  "3": "31994040000"
                },
                {
                  "0": "12362.0",
                  "1": "8830.2953",
                  "2": "274",
                  "3": "31994040000"
                },
                {
                  "0": "12362.0",
                  "1": "8830.2953",
                  "2": "274",
                  "3": "31994040000"
                },
                {
                  "0": "12362.0",
                  "1": "8830.2953",
                  "2": "274",
                  "3": "31994040000"
                },
                {
                  "0": "12362.0",
                  "1": "8830.2953",
                  "2": "274",
                  "3": "31994040000"
                },
                {
                  "0": "12362.0",
                  "1": "8830.2953",
                  "2": "274",
                  "3": "31994040000"
                },
                {
                  "0": "12362.0",
                  "1": "8830.2953",
                  "2": "274",
                  "3": "31994040000"
                },
                {
                  "0": "12362.0",
                  "1": "8830.2953",
                  "2": "274",
                  "3": "31994040000"
                },
                {
                  "0": "12362.0",
                  "1": "8830.2953",
                  "2": "274",
                  "3": "31994040000"
                },
                {
                  "0": "12362.0",
                  "1": "8830.2953",
                  "2": "274",
                  "3": "31994040000"
                },
                {
                  "0": "12362.0",
                  "1": "8830.2953",
                  "2": "274",
                  "3": "31994040000"
                },
                {
                  "0": "12362.0",
                  "1": "8830.2953",
                  "2": "274",
                  "3": "31994040000"
                },
                {
                  "0": "12362.0",
                  "1": "8830.2953",
                  "2": "274",
                  "3": "31994040000"
                },
                {
                  "0": "12362.0",
                  "1": "8830.2953",
                  "2": "274",
                  "3": "31994040000"
                },
                {
                  "0": "12362.0",
                  "1": "8830.2953",
                  "2": "274",
                  "3": "31994040000"
                },
                {
                  "0": "12362.0",
                  "1": "8830.2953",
                  "2": "274",
                  "3": "31994040000"
                },
                {
                  "0": "12362.0",
                  "1": "8830.2953",
                  "2": "274",
                  "3": "31994040000"
                },
                {
                  "0": "12362.0",
                  "1": "8830.2953",
                  "2": "274",
                  "3": "31994040000"
                },
                {
                  "0": "12362.0",
                  "1": "8830.2953",
                  "2": "274",
                  "3": "31994040000"
                },
                {
                  "0": "12362.0",
                  "1": "8830.2953",
                  "2": "274",
                  "3": "31994040000"
                },
                {
                  "0": "12362.0",
                  "1": "8830.2953",
                  "2": "274",
                  "3": "31994040000"
                },
                {
                  "0": "12362.0",
                  "1": "8830.2953",
                  "2": "274",
                  "3": "31994040000"
                },
                {
                  "0": "12363.0",
                  "1": "255.8943",
                  "2": "23",
                  "3": "22816320000"
                },
                {
                  "0": "12363.0",
                  "1": "255.8943",
                  "2": "23",
                  "3": "22816320000"
                },
                {
                  "0": "12363.0",
                  "1": "255.8943",
                  "2": "23",
                  "3": "22816320000"
                },
                {
                  "0": "12363.0",
                  "1": "255.8943",
                  "2": "23",
                  "3": "22816320000"
                },
                {
                  "0": "12363.0",
                  "1": "255.8943",
                  "2": "23",
                  "3": "22816320000"
                },
                {
                  "0": "12363.0",
                  "1": "255.8943",
                  "2": "23",
                  "3": "22816320000"
                },
                {
                  "0": "12363.0",
                  "1": "255.8943",
                  "2": "23",
                  "3": "22816320000"
                },
                {
                  "0": "12363.0",
                  "1": "255.8943",
                  "2": "23",
                  "3": "22816320000"
                },
                {
                  "0": "12363.0",
                  "1": "255.8943",
                  "2": "23",
                  "3": "22816320000"
                },
                {
                  "0": "12363.0",
                  "1": "255.8943",
                  "2": "23",
                  "3": "22816320000"
                },
                {
                  "0": "12363.0",
                  "1": "255.8943",
                  "2": "23",
                  "3": "22816320000"
                },
                {
                  "0": "12363.0",
                  "1": "255.8943",
                  "2": "23",
                  "3": "22816320000"
                },
                {
                  "0": "12363.0",
                  "1": "255.8943",
                  "2": "23",
                  "3": "22816320000"
                },
                {
                  "0": "12363.0",
                  "1": "255.8943",
                  "2": "23",
                  "3": "22816320000"
                },
                {
                  "0": "12363.0",
                  "1": "255.8943",
                  "2": "23",
                  "3": "22816320000"
                },
                {
                  "0": "12363.0",
                  "1": "255.8943",
                  "2": "23",
                  "3": "22816320000"
                },
                {
                  "0": "12363.0",
                  "1": "255.8943",
                  "2": "23",
                  "3": "22816320000"
                },
                {
                  "0": "12363.0",
                  "1": "255.8943",
                  "2": "23",
                  "3": "22816320000"
                },
                {
                  "0": "12363.0",
                  "1": "255.8943",
                  "2": "23",
                  "3": "22816320000"
                },
                {
                  "0": "12363.0",
                  "1": "255.8943",
                  "2": "23",
                  "3": "22816320000"
                },
                {
                  "0": "12363.0",
                  "1": "255.8943",
                  "2": "23",
                  "3": "22816320000"
                },
                {
                  "0": "12363.0",
                  "1": "255.8943",
                  "2": "23",
                  "3": "22816320000"
                },
                {
                  "0": "12363.0",
                  "1": "255.8943",
                  "2": "23",
                  "3": "22816320000"
                },
                {
                  "0": "12364.0",
                  "1": "1220.9351",
                  "2": "85",
                  "3": "31629360000"
                },
                {
                  "0": "12364.0",
                  "1": "1220.9351",
                  "2": "85",
                  "3": "31629360000"
                },
                {
                  "0": "12364.0",
                  "1": "1220.9351",
                  "2": "85",
                  "3": "31629360000"
                },
                {
                  "0": "12364.0",
                  "1": "1220.9351",
                  "2": "85",
                  "3": "31629360000"
                },
                {
                  "0": "12364.0",
                  "1": "1220.9351",
                  "2": "85",
                  "3": "31629360000"
                },
                {
                  "0": "12364.0",
                  "1": "1220.9351",
                  "2": "85",
                  "3": "31629360000"
                },
                {
                  "0": "12364.0",
                  "1": "1220.9351",
                  "2": "85",
                  "3": "31629360000"
                },
                {
                  "0": "12364.0",
                  "1": "1220.9351",
                  "2": "85",
                  "3": "31629360000"
                },
                {
                  "0": "12364.0",
                  "1": "1220.9351",
                  "2": "85",
                  "3": "31629360000"
                },
                {
                  "0": "12364.0",
                  "1": "1220.9351",
                  "2": "85",
                  "3": "31629360000"
                },
                {
                  "0": "12364.0",
                  "1": "1220.9351",
                  "2": "85",
                  "3": "31629360000"
                },
                {
                  "0": "12364.0",
                  "1": "1220.9351",
                  "2": "85",
                  "3": "31629360000"
                },
                {
                  "0": "12364.0",
                  "1": "1220.9351",
                  "2": "85",
                  "3": "31629360000"
                },
                {
                  "0": "12364.0",
                  "1": "1220.9351",
                  "2": "85",
                  "3": "31629360000"
                },
                {
                  "0": "12364.0",
                  "1": "1220.9351",
                  "2": "85",
                  "3": "31629360000"
                },
                {
                  "0": "12364.0",
                  "1": "1220.9351",
                  "2": "85",
                  "3": "31629360000"
                },
                {
                  "0": "12364.0",
                  "1": "1220.9351",
                  "2": "85",
                  "3": "31629360000"
                },
                {
                  "0": "12364.0",
                  "1": "1220.9351",
                  "2": "85",
                  "3": "31629360000"
                },
                {
                  "0": "12364.0",
                  "1": "1220.9351",
                  "2": "85",
                  "3": "31629360000"
                },
                {
                  "0": "12364.0",
                  "1": "1220.9351",
                  "2": "85",
                  "3": "31629360000"
                },
                {
                  "0": "12364.0",
                  "1": "1220.9351",
                  "2": "85",
                  "3": "31629360000"
                },
                {
                  "0": "12364.0",
                  "1": "1220.9351",
                  "2": "85",
                  "3": "31629360000"
                },
                {
                  "0": "12364.0",
                  "1": "1220.9351",
                  "2": "85",
                  "3": "31629360000"
                },
                {
                  "0": "12364.0",
                  "1": "1220.9351",
                  "2": "85",
                  "3": "31629360000"
                },
                {
                  "0": "12364.0",
                  "1": "1220.9351",
                  "2": "85",
                  "3": "31629360000"
                },
                {
                  "0": "12364.0",
                  "1": "1220.9351",
                  "2": "85",
                  "3": "31629360000"
                },
                {
                  "0": "12364.0",
                  "1": "1220.9351",
                  "2": "85",
                  "3": "31629360000"
                },
                {
                  "0": "12364.0",
                  "1": "1220.9351",
                  "2": "85",
                  "3": "31629360000"
                },
                {
                  "0": "12364.0",
                  "1": "1220.9351",
                  "2": "85",
                  "3": "31629360000"
                },
                {
                  "0": "12364.0",
                  "1": "1220.9351",
                  "2": "85",
                  "3": "31629360000"
                },
                {
                  "0": "12364.0",
                  "1": "1220.9351",
                  "2": "85",
                  "3": "31629360000"
                },
                {
                  "0": "12364.0",
                  "1": "1220.9351",
                  "2": "85",
                  "3": "31629360000"
                },
                {
                  "0": "12364.0",
                  "1": "1220.9351",
                  "2": "85",
                  "3": "31629360000"
                },
                {
                  "0": "12364.0",
                  "1": "1220.9351",
                  "2": "85",
                  "3": "31629360000"
                },
                {
                  "0": "12364.0",
                  "1": "1220.9351",
                  "2": "85",
                  "3": "31629360000"
                },
                {
                  "0": "12364.0",
                  "1": "1220.9351",
                  "2": "85",
                  "3": "31629360000"
                },
                {
                  "0": "12364.0",
                  "1": "1220.9351",
                  "2": "85",
                  "3": "31629360000"
                },
                {
                  "0": "12364.0",
                  "1": "1220.9351",
                  "2": "85",
                  "3": "31629360000"
                },
                {
                  "0": "12364.0",
                  "1": "1220.9351",
                  "2": "85",
                  "3": "31629360000"
                },
                {
                  "0": "12364.0",
                  "1": "1220.9351",
                  "2": "85",
                  "3": "31629360000"
                },
                {
                  "0": "12364.0",
                  "1": "1220.9351",
                  "2": "85",
                  "3": "31629360000"
                },
                {
                  "0": "12364.0",
                  "1": "1220.9351",
                  "2": "85",
                  "3": "31629360000"
                },
                {
                  "0": "12364.0",
                  "1": "1220.9351",
                  "2": "85",
                  "3": "31629360000"
                },
                {
                  "0": "12364.0",
                  "1": "1220.9351",
                  "2": "85",
                  "3": "31629360000"
                },
                {
                  "0": "12364.0",
                  "1": "1220.9351",
                  "2": "85",
                  "3": "31629360000"
                },
                {
                  "0": "12364.0",
                  "1": "1220.9351",
                  "2": "85",
                  "3": "31629360000"
                },
                {
                  "0": "12364.0",
                  "1": "1220.9351",
                  "2": "85",
                  "3": "31629360000"
                },
                {
                  "0": "12364.0",
                  "1": "1220.9351",
                  "2": "85",
                  "3": "31629360000"
                },
                {
                  "0": "12364.0",
                  "1": "1220.9351",
                  "2": "85",
                  "3": "31629360000"
                },
                {
                  "0": "12364.0",
                  "1": "1220.9351",
                  "2": "85",
                  "3": "31629360000"
                },
                {
                  "0": "12364.0",
                  "1": "1220.9351",
                  "2": "85",
                  "3": "31629360000"
                },
                {
                  "0": "12364.0",
                  "1": "1220.9351",
                  "2": "85",
                  "3": "31629360000"
                },
                {
                  "0": "12364.0",
                  "1": "1220.9351",
                  "2": "85",
                  "3": "31629360000"
                },
                {
                  "0": "12364.0",
                  "1": "1220.9351",
                  "2": "85",
                  "3": "31629360000"
                },
                {
                  "0": "12364.0",
                  "1": "1220.9351",
                  "2": "85",
                  "3": "31629360000"
                },
                {
                  "0": "12364.0",
                  "1": "1220.9351",
                  "2": "85",
                  "3": "31629360000"
                },
                {
                  "0": "12364.0",
                  "1": "1220.9351",
                  "2": "85",
                  "3": "31629360000"
                },
                {
                  "0": "12364.0",
                  "1": "1220.9351",
                  "2": "85",
                  "3": "31629360000"
                },
                {
                  "0": "12364.0",
                  "1": "1220.9351",
                  "2": "85",
                  "3": "31629360000"
                },
                {
                  "0": "12364.0",
                  "1": "1220.9351",
                  "2": "85",
                  "3": "31629360000"
                },
                {
                  "0": "12364.0",
                  "1": "1220.9351",
                  "2": "85",
                  "3": "31629360000"
                },
                {
                  "0": "12364.0",
                  "1": "1220.9351",
                  "2": "85",
                  "3": "31629360000"
                },
                {
                  "0": "12364.0",
                  "1": "1220.9351",
                  "2": "85",
                  "3": "31629360000"
                },
                {
                  "0": "12364.0",
                  "1": "1220.9351",
                  "2": "85",
                  "3": "31629360000"
                },
                {
                  "0": "12364.0",
                  "1": "1220.9351",
                  "2": "85",
                  "3": "31629360000"
                },
                {
                  "0": "12364.0",
                  "1": "1220.9351",
                  "2": "85",
                  "3": "31629360000"
                },
                {
                  "0": "12364.0",
                  "1": "1220.9351",
                  "2": "85",
                  "3": "31629360000"
                },
                {
                  "0": "12364.0",
                  "1": "1220.9351",
                  "2": "85",
                  "3": "31629360000"
                },
                {
                  "0": "12364.0",
                  "1": "1220.9351",
                  "2": "85",
                  "3": "31629360000"
                },
                {
                  "0": "12364.0",
                  "1": "1220.9351",
                  "2": "85",
                  "3": "31629360000"
                },
                {
                  "0": "12364.0",
                  "1": "1220.9351",
                  "2": "85",
                  "3": "31629360000"
                },
                {
                  "0": "12364.0",
                  "1": "1220.9351",
                  "2": "85",
                  "3": "31629360000"
                },
                {
                  "0": "12364.0",
                  "1": "1220.9351",
                  "2": "85",
                  "3": "31629360000"
                },
                {
                  "0": "12364.0",
                  "1": "1220.9351",
                  "2": "85",
                  "3": "31629360000"
                },
                {
                  "0": "12364.0",
                  "1": "1220.9351",
                  "2": "85",
                  "3": "31629360000"
                },
                {
                  "0": "12364.0",
                  "1": "1220.9351",
                  "2": "85",
                  "3": "31629360000"
                },
                {
                  "0": "12364.0",
                  "1": "1220.9351",
                  "2": "85",
                  "3": "31629360000"
                },
                {
                  "0": "12364.0",
                  "1": "1220.9351",
                  "2": "85",
                  "3": "31629360000"
                },
                {
                  "0": "12364.0",
                  "1": "1220.9351",
                  "2": "85",
                  "3": "31629360000"
                },
                {
                  "0": "12364.0",
                  "1": "1220.9351",
                  "2": "85",
                  "3": "31629360000"
                },
                {
                  "0": "12364.0",
                  "1": "1220.9351",
                  "2": "85",
                  "3": "31629360000"
                },
                {
                  "0": "12364.0",
                  "1": "1220.9351",
                  "2": "85",
                  "3": "31629360000"
                },
                {
                  "0": "12364.0",
                  "1": "1220.9351",
                  "2": "85",
                  "3": "31629360000"
                },
                {
                  "0": "12364.0",
                  "1": "1220.9351",
                  "2": "85",
                  "3": "31629360000"
                },
                {
                  "0": "12364.0",
                  "1": "1220.9351",
                  "2": "85",
                  "3": "31629360000"
                },
                {
                  "0": "12371.0",
                  "1": "2527.9916",
                  "2": "63",
                  "3": "28432200000"
                },
                {
                  "0": "12371.0",
                  "1": "2527.9916",
                  "2": "63",
                  "3": "28432200000"
                },
                {
                  "0": "12371.0",
                  "1": "2527.9916",
                  "2": "63",
                  "3": "28432200000"
                },
                {
                  "0": "12371.0",
                  "1": "2527.9916",
                  "2": "63",
                  "3": "28432200000"
                },
                {
                  "0": "12371.0",
                  "1": "2527.9916",
                  "2": "63",
                  "3": "28432200000"
                },
                {
                  "0": "12371.0",
                  "1": "2527.9916",
                  "2": "63",
                  "3": "28432200000"
                },
                {
                  "0": "12371.0",
                  "1": "2527.9916",
                  "2": "63",
                  "3": "28432200000"
                },
                {
                  "0": "12371.0",
                  "1": "2527.9916",
                  "2": "63",
                  "3": "28432200000"
                },
                {
                  "0": "12371.0",
                  "1": "2527.9916",
                  "2": "63",
                  "3": "28432200000"
                },
                {
                  "0": "12371.0",
                  "1": "2527.9916",
                  "2": "63",
                  "3": "28432200000"
                },
                {
                  "0": "12371.0",
                  "1": "2527.9916",
                  "2": "63",
                  "3": "28432200000"
                },
                {
                  "0": "12371.0",
                  "1": "2527.9916",
                  "2": "63",
                  "3": "28432200000"
                },
                {
                  "0": "12371.0",
                  "1": "2527.9916",
                  "2": "63",
                  "3": "28432200000"
                },
                {
                  "0": "12371.0",
                  "1": "2527.9916",
                  "2": "63",
                  "3": "28432200000"
                },
                {
                  "0": "12371.0",
                  "1": "2527.9916",
                  "2": "63",
                  "3": "28432200000"
                },
                {
                  "0": "12371.0",
                  "1": "2527.9916",
                  "2": "63",
                  "3": "28432200000"
                },
                {
                  "0": "12371.0",
                  "1": "2527.9916",
                  "2": "63",
                  "3": "28432200000"
                },
                {
                  "0": "12371.0",
                  "1": "2527.9916",
                  "2": "63",
                  "3": "28432200000"
                },
                {
                  "0": "12371.0",
                  "1": "2527.9916",
                  "2": "63",
                  "3": "28432200000"
                },
                {
                  "0": "12371.0",
                  "1": "2527.9916",
                  "2": "63",
                  "3": "28432200000"
                },
                {
                  "0": "12371.0",
                  "1": "2527.9916",
                  "2": "63",
                  "3": "28432200000"
                },
                {
                  "0": "12371.0",
                  "1": "2527.9916",
                  "2": "63",
                  "3": "28432200000"
                },
                {
                  "0": "12371.0",
                  "1": "2527.9916",
                  "2": "63",
                  "3": "28432200000"
                },
                {
                  "0": "12371.0",
                  "1": "2527.9916",
                  "2": "63",
                  "3": "28432200000"
                },
                {
                  "0": "12371.0",
                  "1": "2527.9916",
                  "2": "63",
                  "3": "28432200000"
                },
                {
                  "0": "12371.0",
                  "1": "2527.9916",
                  "2": "63",
                  "3": "28432200000"
                },
                {
                  "0": "12371.0",
                  "1": "2527.9916",
                  "2": "63",
                  "3": "28432200000"
                },
                {
                  "0": "12371.0",
                  "1": "2527.9916",
                  "2": "63",
                  "3": "28432200000"
                },
                {
                  "0": "12371.0",
                  "1": "2527.9916",
                  "2": "63",
                  "3": "28432200000"
                },
                {
                  "0": "12371.0",
                  "1": "2527.9916",
                  "2": "63",
                  "3": "28432200000"
                },
                {
                  "0": "12371.0",
                  "1": "2527.9916",
                  "2": "63",
                  "3": "28432200000"
                },
                {
                  "0": "12371.0",
                  "1": "2527.9916",
                  "2": "63",
                  "3": "28432200000"
                },
                {
                  "0": "12371.0",
                  "1": "2527.9916",
                  "2": "63",
                  "3": "28432200000"
                },
                {
                  "0": "12371.0",
                  "1": "2527.9916",
                  "2": "63",
                  "3": "28432200000"
                },
                {
                  "0": "12371.0",
                  "1": "2527.9916",
                  "2": "63",
                  "3": "28432200000"
                },
                {
                  "0": "12371.0",
                  "1": "2527.9916",
                  "2": "63",
                  "3": "28432200000"
                },
                {
                  "0": "12371.0",
                  "1": "2527.9916",
                  "2": "63",
                  "3": "28432200000"
                },
                {
                  "0": "12371.0",
                  "1": "2527.9916",
                  "2": "63",
                  "3": "28432200000"
                },
                {
                  "0": "12371.0",
                  "1": "2527.9916",
                  "2": "63",
                  "3": "28432200000"
                },
                {
                  "0": "12371.0",
                  "1": "2527.9916",
                  "2": "63",
                  "3": "28432200000"
                },
                {
                  "0": "12371.0",
                  "1": "2527.9916",
                  "2": "63",
                  "3": "28432200000"
                },
                {
                  "0": "12371.0",
                  "1": "2527.9916",
                  "2": "63",
                  "3": "28432200000"
                }
              ],
              "schema": [
                {
                  "key": "0",
                  "name": "CustomerID",
                  "type": "string"
                },
                {
                  "key": "1",
                  "name": "monetary_value",
                  "type": "string"
                },
                {
                  "key": "2",
                  "name": "frequency",
                  "type": "string"
                },
                {
                  "key": "3",
                  "name": "recency",
                  "type": "string"
                }
              ],
              "truncated": false
            },
            "isSummary": false,
            "language": "scala",
            "wranglerEntryContext": {
              "candidateVariableNames": [
                "df"
              ],
              "dataframeType": "pyspark"
            }
          },
          "persist_state": {
            "view": {
              "type": "details",
              "tableOptions": {},
              "chartOptions": {
                "chartType": "bar",
                "aggregationType": "count",
                "categoryFieldKeys": [
                  "0"
                ],
                "seriesFieldKeys": [
                  "0"
                ],
                "isStacked": false
              }
            }
          }
        }
      }
    }
  },
  "nbformat": 4,
  "nbformat_minor": 2
}